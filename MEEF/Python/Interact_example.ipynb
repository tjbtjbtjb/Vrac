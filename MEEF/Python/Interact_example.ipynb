{
 "cells": [
  {
   "cell_type": "code",
   "execution_count": 2,
   "id": "1b7ec7ec-cbad-4bd3-8dde-8becbe67324d",
   "metadata": {},
   "outputs": [
    {
     "data": {
      "application/vnd.jupyter.widget-view+json": {
       "model_id": "3231c5dc1029442f9e7854a3bf9d2fab",
       "version_major": 2,
       "version_minor": 0
      },
      "text/plain": [
       "interactive(children=(FloatSlider(value=1.0, description='nx', max=2.0), FloatSlider(value=1.0, description='n…"
      ]
     },
     "metadata": {},
     "output_type": "display_data"
    },
    {
     "data": {
      "text/plain": [
       "<function __main__.f(nx, ny, wx, wy, phi)>"
      ]
     },
     "execution_count": 2,
     "metadata": {},
     "output_type": "execute_result"
    }
   ],
   "source": [
    "from ipywidgets import interact\n",
    "import numpy as np\n",
    "import matplotlib.pyplot as plt\n",
    "import matplotlib.axes as ax\n",
    "import math as m\n",
    "\n",
    "def f(nx,ny,wx,wy,phi):\n",
    "    t=np.linspace(0,m.pi*4,500)\n",
    "    x=nx*np.cos(t*wx)\n",
    "    y=ny*np.cos(t*wy+phi)\n",
    "    z=x+y\n",
    "    plt.plot(t,x,'b',t,y,'b')\n",
    "    plt.plot(t,z,'r')\n",
    "    plt.ylim((-2,2))\n",
    "    #plt.xlim((-2,2))\n",
    "    plt.grid(True)\n",
    "    \n",
    "interact(f,nx=(0,2,0.1),ny=(0,2,0.1),wx=(0,6,0.5),wy=(0,6,0.5),phi=(-m.pi,m.pi,0.1))"
   ]
  },
  {
   "cell_type": "code",
   "execution_count": null,
   "id": "18955134-e761-410e-98d3-09dc53c35626",
   "metadata": {},
   "outputs": [],
   "source": []
  }
 ],
 "metadata": {
  "kernelspec": {
   "display_name": "Python 3 (ipykernel)",
   "language": "python",
   "name": "python3"
  },
  "language_info": {
   "codemirror_mode": {
    "name": "ipython",
    "version": 3
   },
   "file_extension": ".py",
   "mimetype": "text/x-python",
   "name": "python",
   "nbconvert_exporter": "python",
   "pygments_lexer": "ipython3",
   "version": "3.11.7"
  }
 },
 "nbformat": 4,
 "nbformat_minor": 5
}
