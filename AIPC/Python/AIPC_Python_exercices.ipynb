{
 "cells": [
  {
   "cell_type": "markdown",
   "metadata": {
    "slideshow": {
     "slide_type": "slide"
    },
    "tags": []
   },
   "source": [
    "# AIPC 2023-2024\n",
    "\n",
    "<center>\n",
    "    <img src=\"https://physique.u-paris.fr/sites/default/files/logo_2.png\" height=\"300px\" alt=\"Logo Université Paris Diderot\" />\n",
    "</center>\n",
    "\n",
    "---\n",
    "\n",
    "## Introduction à python : exercices\n",
    "![python logo](https://www.python.org/static/img/python-logo.png \"Python\")"
   ]
  },
  {
   "cell_type": "markdown",
   "metadata": {
    "slideshow": {
     "slide_type": "slide"
    }
   },
   "source": [
    "## Exercice 1 : utiliser un Jupyter notebook et calculs simples"
   ]
  },
  {
   "cell_type": "markdown",
   "metadata": {
    "tags": []
   },
   "source": [
    "* Dans votre notebook python, créer au moins 4 cellules, une avec du texte brut (raw), une avec du Markdown et éventuellement des formules simples en $\\LaTeX$, une avec du code.\n",
    "* Calculer : \n",
    " * $1+2\\times 3$, \n",
    " * $(1+2)\\times 3$, \n",
    " * $2^3$,\n",
    " * $5/3$, \n",
    " * et la division entière ainsi que le reste de 5 divisé par 3\n",
    " * Calculer $\\sin(\\pi/2)$, $\\arctan(1)$, $e^1$.\n",
    "* Vérifier que $e^{i\\pi}=-1$."
   ]
  },
  {
   "cell_type": "markdown",
   "metadata": {
    "slideshow": {
     "slide_type": "slide"
    }
   },
   "source": [
    "## Exercice 2 : structures de contrôle"
   ]
  },
  {
   "cell_type": "markdown",
   "metadata": {
    "tags": []
   },
   "source": [
    "* Créer une fonction qui calcule $$\\sum_{i=0}^Ni$$ quand $N$ est donné en argument\n",
    "* Créer une fonction qui produise ceci en sortie :"
   ]
  },
  {
   "cell_type": "markdown",
   "metadata": {
    "tags": []
   },
   "source": [
    "```\n",
    "*\n",
    "**\n",
    "***\n",
    "****\n",
    "*****\n",
    "******\n",
    "```"
   ]
  },
  {
   "cell_type": "markdown",
   "metadata": {
    "tags": []
   },
   "source": [
    "* Créer une fonction qui indique lorsqu'un nombre est pair."
   ]
  },
  {
   "cell_type": "markdown",
   "metadata": {
    "slideshow": {
     "slide_type": "slide"
    }
   },
   "source": [
    "## Exercice 3 : un peu de mécanique…"
   ]
  },
  {
   "cell_type": "markdown",
   "metadata": {
    "tags": []
   },
   "source": [
    "Imaginons une masse de $m=1\\;\\textrm{kg}$ qui chute avec une vitesse initiale verticale $v_0$ de la position initiale $z_0=0$. \n",
    "Cette masse est sujette à une accélération de pesanteur $g$. On ne prend pas en compte de frottement ici.\n",
    "\n",
    "* Calculer la position $z$ de la masse en fonction de $t$ à chaque seconde jusqu'à 10 secondes pour différentes vitesse initiales. Tracer $z(t)$."
   ]
  },
  {
   "cell_type": "markdown",
   "metadata": {
    "tags": []
   },
   "source": [
    "* Modifier ce bout de code afin d'introduire l'outil`interact` widget, $v_0$ étant le paramètre."
   ]
  },
  {
   "cell_type": "markdown",
   "metadata": {
    "slideshow": {
     "slide_type": "slide"
    }
   },
   "source": [
    "## Exercice 4 : Statistiques simples"
   ]
  },
  {
   "cell_type": "markdown",
   "metadata": {
    "tags": []
   },
   "source": [
    "Imaginons un lot de 100 résistors. Le constructeur prétend qu'ils ont une résistance $R$ de $R_0=220\\;\\Omega$ avec une *erreurr* de $5\\%$. \n",
    "\n",
    "Parce que l'on ne peut pas vraiment interpréter ce que le constructeur entend par *erreur*, on simule le lot de résistances sous les deux hypothèses suivantes : \n",
    "* soit la pdf de $R$ est plate à $\\pm5\\%$\n",
    "* soit la pdf est normale avec $\\sigma=R_0\\times5\\%$\n",
    "\n",
    "Produire les histogrammes de ces deux distributions. Ajuster la seconde avec une gaussienne. Comparer la déviation standard avec le $\\sigma$ ajusté. Être sûr d'être capable d'identifier tous les paramètres ajustés."
   ]
  },
  {
   "cell_type": "markdown",
   "metadata": {
    "slideshow": {
     "slide_type": "slide"
    }
   },
   "source": [
    "## Exercice 5 : Lire et analyser un fichier"
   ]
  },
  {
   "cell_type": "markdown",
   "metadata": {
    "tags": []
   },
   "source": [
    "* Lire le fichier `file2.txt` où l'on trouve en colonne les vecteurs de `x` et de `y`. Tracer alors `y` en fonction de `x`.\n",
    "* (plus difficile) Lire le fichier `csv` nommé `F0004CH2.CSV`, issu d'un canal d'oscilloscipe Tektronik. On s'intéresse à tracer la tension en fonction du temps, le temps étant stocké dans la dernière colonne."
   ]
  }
 ],
 "metadata": {
  "kernelspec": {
   "display_name": "Python 3 (ipykernel)",
   "language": "python",
   "name": "python3"
  },
  "language_info": {
   "codemirror_mode": {
    "name": "ipython",
    "version": 3
   },
   "file_extension": ".py",
   "mimetype": "text/x-python",
   "name": "python",
   "nbconvert_exporter": "python",
   "pygments_lexer": "ipython3",
   "version": "3.11.5"
  }
 },
 "nbformat": 4,
 "nbformat_minor": 4
}
