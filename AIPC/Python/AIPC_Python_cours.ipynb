{
 "cells": [
  {
   "cell_type": "markdown",
   "metadata": {
    "slideshow": {
     "slide_type": "slide"
    },
    "tags": []
   },
   "source": [
    "# AIPC 2023-2024\n",
    "\n",
    "<center>\n",
    "    <img src=\"https://physique.u-paris.fr/sites/default/files/logo_2.png\" height=\"300px\" alt=\"Logo Université Paris Cité\" /> \n",
    "</center>\n",
    "\n",
    "---\n",
    "\n",
    "## Introduction à Python™\n",
    "![python logo](https://www.python.org/static/img/python-logo.png \"Python\")"
   ]
  },
  {
   "cell_type": "markdown",
   "metadata": {
    "slideshow": {
     "slide_type": "slide"
    }
   },
   "source": [
    "## Pourquoi devrais-je apprendre Python ?\n",
    "![python powered](https://www.python.org/static/community_logos/python-powered-w-200x80.png)"
   ]
  },
  {
   "cell_type": "markdown",
   "metadata": {
    "slideshow": {
     "slide_type": "fragment"
    }
   },
   "source": [
    "* Parce que c'est *cool* et parce que le logo est *fun*"
   ]
  },
  {
   "cell_type": "markdown",
   "metadata": {
    "slideshow": {
     "slide_type": "fragment"
    }
   },
   "source": [
    "* Parce que c'est gratuit et disponible sur toutes les plateformes\n",
    "* Parce que c'est un langage de haut niveau, qui est facile à lire en Anglais, et qui ne possède pas une syntaxe bizarre"
   ]
  },
  {
   "cell_type": "code",
   "execution_count": 1,
   "metadata": {},
   "outputs": [
    {
     "name": "stdout",
     "output_type": "stream",
     "text": [
      "red\n"
     ]
    }
   ],
   "source": [
    "import random\n",
    "def choose_color():\n",
    "    colors=['red','green','blue']\n",
    "    return random.choice(colors)\n",
    "\n",
    "my_color=choose_color()\n",
    "print(my_color)"
   ]
  },
  {
   "cell_type": "markdown",
   "metadata": {
    "slideshow": {
     "slide_type": "subslide"
    },
    "tags": []
   },
   "source": [
    "* Parce que c'est un langage interprété qui peut être lancé en mode interactif\n",
    "* Parce qu'il est possible de faire de la science avec (il existe de nombreuses librairies)\n",
    "* Parce que c'est devenu un standard"
   ]
  },
  {
   "cell_type": "markdown",
   "metadata": {
    "slideshow": {
     "slide_type": "slide"
    },
    "tags": []
   },
   "source": [
    "## Pourquoi devrais-je apprendre Python ? (suite)\n",
    "* Parce que *je* dois !\n",
    "\n",
    "Extraits de programmes"
   ]
  },
  {
   "cell_type": "markdown",
   "metadata": {
    "slideshow": {
     "slide_type": "subslide"
    }
   },
   "source": [
    "* Seconde, sciences numériques \n",
    "![](https://lpnhe.in2p3.fr/spip.php?action=acceder_document&arg=3173&cle=c2cbbf205001bd52a7019e47788e17851f47fce1&file=png%2F2nde_ens_num.png)"
   ]
  },
  {
   "cell_type": "markdown",
   "metadata": {
    "slideshow": {
     "slide_type": "subslide"
    }
   },
   "source": [
    "* Seconde, physique chimie\n",
    "\n",
    "![](https://lpnhe.in2p3.fr/spip.php?action=acceder_document&arg=3174&cle=53af2f774d63f225ed0eb6273d3248226a141870&file=png%2F2nde_pc_1.png)\n",
    "\n",
    "![](https://lpnhe.in2p3.fr/spip.php?action=acceder_document&arg=3175&cle=8436c1f91ce50dd68091adc3eb290eba654b254f&file=png%2F2nde_pc_2.png)"
   ]
  },
  {
   "cell_type": "markdown",
   "metadata": {
    "slideshow": {
     "slide_type": "subslide"
    }
   },
   "source": [
    "* Première, enseignement scientifique\n",
    "\n",
    "![](https://lpnhe.in2p3.fr/spip.php?action=acceder_document&arg=3171&cle=18b02b25d4b2827e44fdbd6be6f6543e472f5bcc&file=png%2F1ere_ens_sci_1.png)\n",
    "\n",
    "---\n",
    "\n",
    "![](https://lpnhe.in2p3.fr/spip.php?action=acceder_document&arg=3172&cle=db47779325745ce488692cb6c9f28ce76f7624e4&file=png%2F1ere_ens_sci_2.png)"
   ]
  },
  {
   "cell_type": "markdown",
   "metadata": {
    "slideshow": {
     "slide_type": "subslide"
    },
    "tags": []
   },
   "source": [
    "* Programme de prépa, MPSI\n",
    "\n",
    "![](https://lpnhe.in2p3.fr/IMG/png/screenshot_from_2022-09-13_14-29-33.png?3470/f91a8f2c6d44ca508ecfe329af740d9732e28c87)"
   ]
  },
  {
   "cell_type": "markdown",
   "metadata": {
    "slideshow": {
     "slide_type": "subslide"
    },
    "tags": []
   },
   "source": [
    "![](https://lpnhe.in2p3.fr/IMG/png/screenshot_from_2022-09-13_14-29-57.png?3471/f875298daf840bdd03c9ec006d62c6c33e97261c)"
   ]
  },
  {
   "cell_type": "markdown",
   "metadata": {
    "slideshow": {
     "slide_type": "subslide"
    },
    "tags": []
   },
   "source": [
    "![](https://lpnhe.in2p3.fr/IMG/png/screenshot_from_2022-09-13_14-30-16.png?3472/5207f4d0fd54ee513c85b3e154c72b658bbbd8c7)"
   ]
  },
  {
   "cell_type": "markdown",
   "metadata": {
    "slideshow": {
     "slide_type": "fragment"
    },
    "tags": []
   },
   "source": [
    "* Voir aussi dans les <a href=\"http://www.agregation-interne-physique-chimie.org/rapports-de-jury.html\">rapports de jury de l'agrégation interne de Physique/Chimie</a>."
   ]
  },
  {
   "cell_type": "markdown",
   "metadata": {
    "slideshow": {
     "slide_type": "slide"
    }
   },
   "source": [
    "## Où et comment utiliser Python ? 1/2"
   ]
  },
  {
   "cell_type": "markdown",
   "metadata": {
    "slideshow": {
     "slide_type": "fragment"
    }
   },
   "source": [
    "### Au travers une interface *notebook* sur le *cloud*\n",
    "Pour :\n",
    "* rien à installer, pas de soucis de mises à jour\n",
    "* facile à utiliser\n",
    "* tout est sur le *cloud*\n",
    "* outil sur la base d'un navigateur, donc fonctionnant sur toute plateforme\n",
    "\n",
    "Contre : \n",
    "* indisponible hors ligne\n",
    "* difficile d'interagir avec du matériel local\n",
    "\n",
    "Où ?\n",
    "* Ici à l'université https://jupy.physique.univ-paris-diderot.fr\n",
    "* Ailleurs comme https://colab.research.google.com ou https://mybinder.org/\n",
    "* Ou sur toute installation disponible comme https://capytale2.ac-paris.fr par exemple"
   ]
  },
  {
   "cell_type": "markdown",
   "metadata": {
    "jp-MarkdownHeadingCollapsed": true,
    "slideshow": {
     "slide_type": "subslide"
    },
    "tags": []
   },
   "source": [
    "## Où et comment utiliser Python ? 2/2\n",
    "### Sur une machine locale\n",
    "Poour : \n",
    "* toujours disponible quelque soit l'état du réseau\n",
    "* possible de gérer la version\n",
    "* interaction facilité avec du matériel\n",
    "\n",
    "Contre : \n",
    "* nécessite l'effectuer les installations et les mises à jour\n",
    "* non disponible sur le nuage (attention aux sauvegardes)\n",
    "\n",
    "Quelle version :\n",
    "* Python 3 (python 2 n'est plus maintenu depuis un peu plus de 1 an)\n",
    "* Il est envisageable d'installer python via `spyder` ou `anaconda` (qui vient directement avec `spyder`, `iPython`, `SciPy`…)"
   ]
  },
  {
   "cell_type": "markdown",
   "metadata": {
    "slideshow": {
     "slide_type": "slide"
    }
   },
   "source": [
    "## Très courte introduction de l'utilisation du mode interactif\n",
    "\n",
    "Référence : https://docs.python.org/3/"
   ]
  },
  {
   "cell_type": "markdown",
   "metadata": {
    "slideshow": {
     "slide_type": "fragment"
    }
   },
   "source": [
    "### Faire un simple calcul"
   ]
  },
  {
   "cell_type": "code",
   "execution_count": 2,
   "metadata": {},
   "outputs": [
    {
     "data": {
      "text/plain": [
       "6"
      ]
     },
     "execution_count": 2,
     "metadata": {},
     "output_type": "execute_result"
    }
   ],
   "source": [
    "1+2+3"
   ]
  },
  {
   "cell_type": "markdown",
   "metadata": {},
   "source": [
    "Mais…"
   ]
  },
  {
   "cell_type": "code",
   "execution_count": 3,
   "metadata": {
    "slideshow": {
     "slide_type": "fragment"
    }
   },
   "outputs": [
    {
     "ename": "NameError",
     "evalue": "name 'sin' is not defined",
     "output_type": "error",
     "traceback": [
      "\u001b[0;31m---------------------------------------------------------------------------\u001b[0m",
      "\u001b[0;31mNameError\u001b[0m                                 Traceback (most recent call last)",
      "\u001b[0;32m<ipython-input-3-7ec80c2057e2>\u001b[0m in \u001b[0;36m<module>\u001b[0;34m\u001b[0m\n\u001b[0;32m----> 1\u001b[0;31m \u001b[0msin\u001b[0m\u001b[0;34m(\u001b[0m\u001b[0mpi\u001b[0m\u001b[0;34m/\u001b[0m\u001b[0;36m2\u001b[0m\u001b[0;34m)\u001b[0m\u001b[0;34m\u001b[0m\u001b[0;34m\u001b[0m\u001b[0m\n\u001b[0m",
      "\u001b[0;31mNameError\u001b[0m: name 'sin' is not defined"
     ]
    }
   ],
   "source": [
    "sin(pi/2)"
   ]
  },
  {
   "cell_type": "markdown",
   "metadata": {
    "slideshow": {
     "slide_type": "subslide"
    },
    "tags": []
   },
   "source": [
    "Vous devez alors utiliser le module `math` :"
   ]
  },
  {
   "cell_type": "code",
   "execution_count": 4,
   "metadata": {},
   "outputs": [
    {
     "data": {
      "text/plain": [
       "1.0"
      ]
     },
     "execution_count": 4,
     "metadata": {},
     "output_type": "execute_result"
    }
   ],
   "source": [
    "import math \n",
    "math.sin(math.pi/2)"
   ]
  },
  {
   "cell_type": "markdown",
   "metadata": {
    "slideshow": {
     "slide_type": "fragment"
    },
    "tags": []
   },
   "source": [
    "Si vous ne souhaitez pas écrire à chaque fois `math.` au début des commandes :"
   ]
  },
  {
   "cell_type": "code",
   "execution_count": 5,
   "metadata": {},
   "outputs": [
    {
     "data": {
      "text/plain": [
       "1.0"
      ]
     },
     "execution_count": 5,
     "metadata": {},
     "output_type": "execute_result"
    }
   ],
   "source": [
    "import math as m\n",
    "m.sin(m.pi/2)"
   ]
  },
  {
   "cell_type": "markdown",
   "metadata": {
    "slideshow": {
     "slide_type": "fragment"
    }
   },
   "source": [
    "ou alors (même si c'est une méthode dangereuse car certains modules ont des noms de variables ou fonctions identiques)"
   ]
  },
  {
   "cell_type": "code",
   "execution_count": 6,
   "metadata": {},
   "outputs": [
    {
     "data": {
      "text/plain": [
       "1.0"
      ]
     },
     "execution_count": 6,
     "metadata": {},
     "output_type": "execute_result"
    }
   ],
   "source": [
    "# would be better to avoid this method\n",
    "# please note that you can add a comment adding a dash at the beg of a line\n",
    "from math import *\n",
    "sin(pi/2)"
   ]
  },
  {
   "cell_type": "markdown",
   "metadata": {
    "slideshow": {
     "slide_type": "subslide"
    }
   },
   "source": [
    "### Quelques types disponibles\n",
    "On peut soit laisser Python choisir le type par défaut ou alors forcer celui-ci."
   ]
  },
  {
   "cell_type": "code",
   "execution_count": 7,
   "metadata": {
    "slideshow": {
     "slide_type": "fragment"
    },
    "tags": []
   },
   "outputs": [
    {
     "name": "stdout",
     "output_type": "stream",
     "text": [
      "2\n",
      "<class 'int'>\n",
      "12.34\n",
      "<class 'float'>\n",
      "3.0\n",
      "<class 'float'>\n",
      "[0, 1, 2]\n",
      "<class 'list'>\n",
      "hi everybody !\n",
      "<class 'str'>\n"
     ]
    }
   ],
   "source": [
    "a=2\n",
    "print(a)\n",
    "print(type(a))\n",
    "\n",
    "b=12.34\n",
    "print(b)\n",
    "print(type(b))\n",
    "\n",
    "c=float(3)\n",
    "print(c)\n",
    "print(type(c))\n",
    "\n",
    "x=[0,1,2]\n",
    "print(x)\n",
    "print(type(x))\n",
    "\n",
    "s=\"hi everybody !\"\n",
    "print(s)\n",
    "print(type(s))"
   ]
  },
  {
   "cell_type": "markdown",
   "metadata": {
    "slideshow": {
     "slide_type": "subslide"
    }
   },
   "source": [
    "### Opérateurs\n",
    "Leur action est indépendante du type de la variablele"
   ]
  },
  {
   "cell_type": "code",
   "execution_count": 8,
   "metadata": {},
   "outputs": [
    {
     "name": "stdout",
     "output_type": "stream",
     "text": [
      "3\n",
      "hello world\n"
     ]
    }
   ],
   "source": [
    "# addition with + for integers\n",
    "a=1\n",
    "b=2\n",
    "print(a+b)\n",
    "\n",
    "#concatenation with + for strings\n",
    "s1=\"hello \"\n",
    "s2=\"world\"\n",
    "print(s1+s2)"
   ]
  },
  {
   "cell_type": "markdown",
   "metadata": {},
   "source": [
    "Référence sur les opérateurs : voir https://docs.python.org/3/library/operator.html"
   ]
  },
  {
   "cell_type": "markdown",
   "metadata": {
    "slideshow": {
     "slide_type": "subslide"
    }
   },
   "source": [
    "### Listes, boucles simples et structures de contrôle"
   ]
  },
  {
   "cell_type": "code",
   "execution_count": 9,
   "metadata": {},
   "outputs": [
    {
     "name": "stdout",
     "output_type": "stream",
     "text": [
      "[1, 2, 3, 4, 5, 6, 7, 8]\n"
     ]
    }
   ],
   "source": [
    "a=[1,2,3,4]\n",
    "b=[5,6,7,8]\n",
    "print(a+b)"
   ]
  },
  {
   "cell_type": "code",
   "execution_count": 10,
   "metadata": {},
   "outputs": [
    {
     "name": "stdout",
     "output_type": "stream",
     "text": [
      "3\n",
      "4\n",
      "5\n",
      "6\n"
     ]
    }
   ],
   "source": [
    "for x in a:\n",
    "    print(x+2) # yes there is an indent here. Required for block of commands"
   ]
  },
  {
   "cell_type": "markdown",
   "metadata": {
    "slideshow": {
     "slide_type": "fragment"
    }
   },
   "source": [
    "Il est possible de créer des listes inhomogènes aussi"
   ]
  },
  {
   "cell_type": "code",
   "execution_count": 11,
   "metadata": {},
   "outputs": [
    {
     "name": "stdout",
     "output_type": "stream",
     "text": [
      "[0, True, 3.4, 'pi', [5, 6]]\n",
      "<class 'list'>\n"
     ]
    }
   ],
   "source": [
    "z=[0,True,3.4,\"pi\",[5,6]]\n",
    "print(z)\n",
    "print(type(z))"
   ]
  },
  {
   "cell_type": "markdown",
   "metadata": {
    "slideshow": {
     "slide_type": "subslide"
    }
   },
   "source": [
    "Afin d'accéder à un élément en particulier, il faut spécifier l'index, qui commence à 0."
   ]
  },
  {
   "cell_type": "code",
   "execution_count": 12,
   "metadata": {},
   "outputs": [
    {
     "name": "stdout",
     "output_type": "stream",
     "text": [
      "0\n",
      "pi\n",
      "[5, 6]\n"
     ]
    }
   ],
   "source": [
    "print(z[0])\n",
    "print(z[3])\n",
    "print(z[-1]) # means last element"
   ]
  },
  {
   "cell_type": "markdown",
   "metadata": {
    "slideshow": {
     "slide_type": "fragment"
    }
   },
   "source": [
    "Mais il n'est pas possible de vraiment faire du calcul scientifique avec des listes simples…"
   ]
  },
  {
   "cell_type": "code",
   "execution_count": 13,
   "metadata": {},
   "outputs": [
    {
     "ename": "TypeError",
     "evalue": "can only concatenate list (not \"int\") to list",
     "output_type": "error",
     "traceback": [
      "\u001b[0;31m---------------------------------------------------------------------------\u001b[0m",
      "\u001b[0;31mTypeError\u001b[0m                                 Traceback (most recent call last)",
      "\u001b[0;32m<ipython-input-13-9a3f465da35e>\u001b[0m in \u001b[0;36m<module>\u001b[0;34m\u001b[0m\n\u001b[1;32m      1\u001b[0m \u001b[0mx\u001b[0m\u001b[0;34m=\u001b[0m\u001b[0;34m[\u001b[0m\u001b[0;36m1\u001b[0m\u001b[0;34m,\u001b[0m\u001b[0;36m2\u001b[0m\u001b[0;34m,\u001b[0m\u001b[0;36m3\u001b[0m\u001b[0;34m]\u001b[0m\u001b[0;34m\u001b[0m\u001b[0;34m\u001b[0m\u001b[0m\n\u001b[0;32m----> 2\u001b[0;31m \u001b[0mprint\u001b[0m\u001b[0;34m(\u001b[0m\u001b[0;36m2\u001b[0m\u001b[0;34m*\u001b[0m\u001b[0mx\u001b[0m\u001b[0;34m+\u001b[0m\u001b[0;36m3\u001b[0m\u001b[0;34m)\u001b[0m\u001b[0;34m\u001b[0m\u001b[0;34m\u001b[0m\u001b[0m\n\u001b[0m",
      "\u001b[0;31mTypeError\u001b[0m: can only concatenate list (not \"int\") to list"
     ]
    }
   ],
   "source": [
    "x=[1,2,3]\n",
    "print(2*x+3)"
   ]
  },
  {
   "cell_type": "markdown",
   "metadata": {
    "slideshow": {
     "slide_type": "subslide"
    }
   },
   "source": [
    "Pour en savoir plus sur le langage, en particulier sur les structures de contrôle (utilisation de `for`, `if`, `while`, ...), se référer à la documentation.\n",
    "\n",
    "https://docs.python.org/3/tutorial/controlflow.html?highlight=loop#\n",
    "\n",
    "Exemple avec l'algorithme d'Eratosthene."
   ]
  },
  {
   "cell_type": "code",
   "execution_count": 14,
   "metadata": {
    "slideshow": {
     "slide_type": "fragment"
    }
   },
   "outputs": [
    {
     "data": {
      "text/plain": [
       "[2, 3, 5, 7, 11, 13, 17, 19, 23, 29, 31, 37, 41, 43, 47]"
      ]
     },
     "execution_count": 14,
     "metadata": {},
     "output_type": "execute_result"
    }
   ],
   "source": [
    "def eratosthene(n):\n",
    "    n += 1\n",
    "    p = [0,0] + [i for i in range(2, n)]\n",
    "    for i in range(2, n):\n",
    "        if p[i] != 0:\n",
    "            for j in range(i*2, n, i):\n",
    "                p[j] = 0\n",
    "    return [v for v in p if v!=0]    \n",
    "\n",
    "eratosthene(50)"
   ]
  },
  {
   "cell_type": "code",
   "execution_count": 15,
   "metadata": {
    "slideshow": {
     "slide_type": "skip"
    }
   },
   "outputs": [
    {
     "data": {
      "text/plain": [
       "[0, 1, 2, 3, 4, 5, 6, 7, 8, 9]"
      ]
     },
     "execution_count": 15,
     "metadata": {},
     "output_type": "execute_result"
    }
   ],
   "source": [
    "list(range(10))"
   ]
  },
  {
   "cell_type": "markdown",
   "metadata": {
    "slideshow": {
     "slide_type": "slide"
    }
   },
   "source": [
    "## Paquest scientiques\n",
    "\n",
    "<div>\n",
    "<img src=\"https://numpy.org/images/logo.svg\" width=\"40\"/> Numpy\n",
    "<img src=\"https://scipy.org/images/logo.svg\" width=\"40\"/> Scipy\n",
    "<img src=\"https://matplotlib.org/_static/images/documentation.png\" width=\"40\"/> Matplotlib\n",
    "</div>\n",
    "\n",
    "Références : https://www.scipy.org/\n",
    "\n",
    "Voyons quelques exemples pratiques."
   ]
  },
  {
   "cell_type": "markdown",
   "metadata": {
    "slideshow": {
     "slide_type": "subslide"
    }
   },
   "source": [
    "### Calcul avec des (numpy) arrays\n",
    "On se rappelle…"
   ]
  },
  {
   "cell_type": "code",
   "execution_count": 16,
   "metadata": {},
   "outputs": [
    {
     "name": "stdout",
     "output_type": "stream",
     "text": [
      "[1, 2, 3, 4, 5, 6, 7, 8]\n"
     ]
    }
   ],
   "source": [
    "a=[1,2,3,4]\n",
    "b=[5,6,7,8]\n",
    "print(a+b)"
   ]
  },
  {
   "cell_type": "markdown",
   "metadata": {
    "slideshow": {
     "slide_type": "fragment"
    }
   },
   "source": [
    "Mais…"
   ]
  },
  {
   "cell_type": "code",
   "execution_count": 17,
   "metadata": {},
   "outputs": [
    {
     "name": "stdout",
     "output_type": "stream",
     "text": [
      "<class 'numpy.ndarray'>\n",
      "[ 6  8 10 12]\n"
     ]
    }
   ],
   "source": [
    "import numpy as np\n",
    "x=np.array(a)\n",
    "y=np.array(b)\n",
    "z=np.add(x,y)\n",
    "print(type(z))\n",
    "print(z)"
   ]
  },
  {
   "cell_type": "markdown",
   "metadata": {
    "slideshow": {
     "slide_type": "subslide"
    }
   },
   "source": [
    "Créer et utiliser un *range array* : "
   ]
  },
  {
   "cell_type": "code",
   "execution_count": 18,
   "metadata": {},
   "outputs": [
    {
     "name": "stdout",
     "output_type": "stream",
     "text": [
      "[-1.         -0.99500417 -0.98006658 -0.95533649 -0.92106099 -0.87758256\n",
      " -0.82533561 -0.76484219 -0.69670671 -0.62160997 -0.54030231 -0.45359612\n",
      " -0.36235775 -0.26749883 -0.16996714 -0.0707372   0.02919952  0.12884449\n",
      "  0.22720209  0.32328957  0.41614684  0.5048461   0.58850112  0.66627602\n",
      "  0.73739372  0.80114362  0.85688875  0.90407214  0.94222234  0.97095817\n",
      "  0.9899925   0.99913515  0.99829478  0.98747977  0.96679819  0.93645669\n",
      "  0.89675842  0.84810003  0.79096771  0.7259323   0.65364362  0.57482395\n",
      "  0.49026082  0.40079917  0.30733287  0.2107958   0.11215253  0.01238866\n",
      " -0.08749898 -0.18651237 -0.28366219 -0.37797774 -0.46851667 -0.55437434\n",
      " -0.63469288 -0.70866977 -0.77556588 -0.83471278 -0.88551952 -0.92747843\n",
      " -0.96017029 -0.98326844 -0.9965421 ]\n"
     ]
    }
   ],
   "source": [
    "theta=np.arange(-m.pi,m.pi,0.1)\n",
    "y=np.cos(theta)\n",
    "print(y)"
   ]
  },
  {
   "cell_type": "markdown",
   "metadata": {
    "slideshow": {
     "slide_type": "subslide"
    },
    "tags": []
   },
   "source": [
    "Créer un tableau entre 2 flottants avec N valeurs "
   ]
  },
  {
   "cell_type": "code",
   "execution_count": 19,
   "metadata": {},
   "outputs": [
    {
     "name": "stdout",
     "output_type": "stream",
     "text": [
      "[-2.  -1.5 -1.  -0.5  0.   0.5  1.   1.5  2.   2.5  3.   3.5  4.   4.5\n",
      "  5.   5.5  6.   6.5  7.   7.5  8.   8.5  9.   9.5 10. ]\n"
     ]
    }
   ],
   "source": [
    "z=np.linspace(-2,10,25)\n",
    "print(z)"
   ]
  },
  {
   "cell_type": "markdown",
   "metadata": {
    "slideshow": {
     "slide_type": "fragment"
    },
    "tags": []
   },
   "source": [
    "Créer un tableau de nombres aléatoires :"
   ]
  },
  {
   "cell_type": "code",
   "execution_count": 20,
   "metadata": {},
   "outputs": [
    {
     "name": "stdout",
     "output_type": "stream",
     "text": [
      "[0.12228457 0.22692687 0.39158386 0.77392881 0.06446873 0.00229301\n",
      " 0.39636319 0.83797958 0.17562089 0.3879858  0.87596659 0.61276253\n",
      " 0.95398293 0.55921351 0.33325614 0.31748514 0.34636727 0.14975502\n",
      " 0.16505547 0.99979763 0.61513101 0.38508479 0.53273782 0.29608064\n",
      " 0.53233584 0.96609086 0.10715606 0.697991   0.18824033 0.53805905\n",
      " 0.30200388 0.95306153 0.05660225 0.03517967 0.78799419 0.6920924\n",
      " 0.89526923 0.75650252 0.32375822 0.98527039 0.07850473 0.48861449\n",
      " 0.81063319 0.82356774 0.80968547 0.54127985 0.11221211 0.66621657\n",
      " 0.39866053 0.40749023]\n"
     ]
    }
   ],
   "source": [
    "flat_noise=np.random.random(50)\n",
    "print(flat_noise)"
   ]
  },
  {
   "cell_type": "markdown",
   "metadata": {
    "slideshow": {
     "slide_type": "slide"
    }
   },
   "source": [
    "### Tracés avec MatplotLib"
   ]
  },
  {
   "cell_type": "code",
   "execution_count": 21,
   "metadata": {
    "slideshow": {
     "slide_type": "skip"
    }
   },
   "outputs": [],
   "source": [
    "%matplotlib inline"
   ]
  },
  {
   "cell_type": "code",
   "execution_count": 22,
   "metadata": {
    "slideshow": {
     "slide_type": "fragment"
    },
    "tags": []
   },
   "outputs": [
    {
     "data": {
      "image/png": "[encoded data removed]",
      "text/plain": [
       "<Figure size 432x288 with 1 Axes>"
      ]
     },
     "metadata": {
      "needs_background": "light"
     },
     "output_type": "display_data"
    }
   ],
   "source": [
    "import numpy as np\n",
    "import matplotlib.pyplot as plt\n",
    "import math as m\n",
    "x=np.arange(-2*m.pi,2*m.pi,0.1)\n",
    "y=np.cos(x)\n",
    "y_noise=0.1*np.random.randn(y.size) # normal distribution of noise\n",
    "plt.plot(x,y+y_noise)\n",
    "plt.grid()"
   ]
  },
  {
   "cell_type": "markdown",
   "metadata": {
    "slideshow": {
     "slide_type": "subslide"
    }
   },
   "source": [
    "Afin d'interagir avec le graphique (zoom, déplacement, sauvegarde de la figure), il faut lancer une commande MatplotLib spécifique (attention, ne fonctionne pas dans tous les environnements…)."
   ]
  },
  {
   "cell_type": "code",
   "execution_count": 23,
   "metadata": {},
   "outputs": [
    {
     "ename": "ModuleNotFoundError",
     "evalue": "No module named 'ipympl'",
     "output_type": "error",
     "traceback": [
      "\u001b[0;31m---------------------------------------------------------------------------\u001b[0m",
      "\u001b[0;31mModuleNotFoundError\u001b[0m                       Traceback (most recent call last)",
      "\u001b[0;32m<ipython-input-23-7b899824b39e>\u001b[0m in \u001b[0;36m<module>\u001b[0;34m\u001b[0m\n\u001b[0;32m----> 1\u001b[0;31m \u001b[0mget_ipython\u001b[0m\u001b[0;34m(\u001b[0m\u001b[0;34m)\u001b[0m\u001b[0;34m.\u001b[0m\u001b[0mrun_line_magic\u001b[0m\u001b[0;34m(\u001b[0m\u001b[0;34m'matplotlib'\u001b[0m\u001b[0;34m,\u001b[0m \u001b[0;34m'widget'\u001b[0m\u001b[0;34m)\u001b[0m\u001b[0;34m\u001b[0m\u001b[0;34m\u001b[0m\u001b[0m\n\u001b[0m",
      "\u001b[0;32m/usr/lib/python3/dist-packages/IPython/core/interactiveshell.py\u001b[0m in \u001b[0;36mrun_line_magic\u001b[0;34m(self, magic_name, line, _stack_depth)\u001b[0m\n\u001b[1;32m   2315\u001b[0m                 \u001b[0mkwargs\u001b[0m\u001b[0;34m[\u001b[0m\u001b[0;34m'local_ns'\u001b[0m\u001b[0;34m]\u001b[0m \u001b[0;34m=\u001b[0m \u001b[0msys\u001b[0m\u001b[0;34m.\u001b[0m\u001b[0m_getframe\u001b[0m\u001b[0;34m(\u001b[0m\u001b[0mstack_depth\u001b[0m\u001b[0;34m)\u001b[0m\u001b[0;34m.\u001b[0m\u001b[0mf_locals\u001b[0m\u001b[0;34m\u001b[0m\u001b[0;34m\u001b[0m\u001b[0m\n\u001b[1;32m   2316\u001b[0m             \u001b[0;32mwith\u001b[0m \u001b[0mself\u001b[0m\u001b[0;34m.\u001b[0m\u001b[0mbuiltin_trap\u001b[0m\u001b[0;34m:\u001b[0m\u001b[0;34m\u001b[0m\u001b[0;34m\u001b[0m\u001b[0m\n\u001b[0;32m-> 2317\u001b[0;31m                 \u001b[0mresult\u001b[0m \u001b[0;34m=\u001b[0m \u001b[0mfn\u001b[0m\u001b[0;34m(\u001b[0m\u001b[0;34m*\u001b[0m\u001b[0margs\u001b[0m\u001b[0;34m,\u001b[0m \u001b[0;34m**\u001b[0m\u001b[0mkwargs\u001b[0m\u001b[0;34m)\u001b[0m\u001b[0;34m\u001b[0m\u001b[0;34m\u001b[0m\u001b[0m\n\u001b[0m\u001b[1;32m   2318\u001b[0m             \u001b[0;32mreturn\u001b[0m \u001b[0mresult\u001b[0m\u001b[0;34m\u001b[0m\u001b[0;34m\u001b[0m\u001b[0m\n\u001b[1;32m   2319\u001b[0m \u001b[0;34m\u001b[0m\u001b[0m\n",
      "\u001b[0;32m<decorator-gen-101>\u001b[0m in \u001b[0;36mmatplotlib\u001b[0;34m(self, line)\u001b[0m\n",
      "\u001b[0;32m/usr/lib/python3/dist-packages/IPython/core/magic.py\u001b[0m in \u001b[0;36m<lambda>\u001b[0;34m(f, *a, **k)\u001b[0m\n\u001b[1;32m    185\u001b[0m     \u001b[0;31m# but it's overkill for just that one bit of state.\u001b[0m\u001b[0;34m\u001b[0m\u001b[0;34m\u001b[0m\u001b[0;34m\u001b[0m\u001b[0m\n\u001b[1;32m    186\u001b[0m     \u001b[0;32mdef\u001b[0m \u001b[0mmagic_deco\u001b[0m\u001b[0;34m(\u001b[0m\u001b[0marg\u001b[0m\u001b[0;34m)\u001b[0m\u001b[0;34m:\u001b[0m\u001b[0;34m\u001b[0m\u001b[0;34m\u001b[0m\u001b[0m\n\u001b[0;32m--> 187\u001b[0;31m         \u001b[0mcall\u001b[0m \u001b[0;34m=\u001b[0m \u001b[0;32mlambda\u001b[0m \u001b[0mf\u001b[0m\u001b[0;34m,\u001b[0m \u001b[0;34m*\u001b[0m\u001b[0ma\u001b[0m\u001b[0;34m,\u001b[0m \u001b[0;34m**\u001b[0m\u001b[0mk\u001b[0m\u001b[0;34m:\u001b[0m \u001b[0mf\u001b[0m\u001b[0;34m(\u001b[0m\u001b[0;34m*\u001b[0m\u001b[0ma\u001b[0m\u001b[0;34m,\u001b[0m \u001b[0;34m**\u001b[0m\u001b[0mk\u001b[0m\u001b[0;34m)\u001b[0m\u001b[0;34m\u001b[0m\u001b[0;34m\u001b[0m\u001b[0m\n\u001b[0m\u001b[1;32m    188\u001b[0m \u001b[0;34m\u001b[0m\u001b[0m\n\u001b[1;32m    189\u001b[0m         \u001b[0;32mif\u001b[0m \u001b[0mcallable\u001b[0m\u001b[0;34m(\u001b[0m\u001b[0marg\u001b[0m\u001b[0;34m)\u001b[0m\u001b[0;34m:\u001b[0m\u001b[0;34m\u001b[0m\u001b[0;34m\u001b[0m\u001b[0m\n",
      "\u001b[0;32m/usr/lib/python3/dist-packages/IPython/core/magics/pylab.py\u001b[0m in \u001b[0;36mmatplotlib\u001b[0;34m(self, line)\u001b[0m\n\u001b[1;32m     97\u001b[0m             \u001b[0mprint\u001b[0m\u001b[0;34m(\u001b[0m\u001b[0;34m\"Available matplotlib backends: %s\"\u001b[0m \u001b[0;34m%\u001b[0m \u001b[0mbackends_list\u001b[0m\u001b[0;34m)\u001b[0m\u001b[0;34m\u001b[0m\u001b[0;34m\u001b[0m\u001b[0m\n\u001b[1;32m     98\u001b[0m         \u001b[0;32melse\u001b[0m\u001b[0;34m:\u001b[0m\u001b[0;34m\u001b[0m\u001b[0;34m\u001b[0m\u001b[0m\n\u001b[0;32m---> 99\u001b[0;31m             \u001b[0mgui\u001b[0m\u001b[0;34m,\u001b[0m \u001b[0mbackend\u001b[0m \u001b[0;34m=\u001b[0m \u001b[0mself\u001b[0m\u001b[0;34m.\u001b[0m\u001b[0mshell\u001b[0m\u001b[0;34m.\u001b[0m\u001b[0menable_matplotlib\u001b[0m\u001b[0;34m(\u001b[0m\u001b[0margs\u001b[0m\u001b[0;34m.\u001b[0m\u001b[0mgui\u001b[0m\u001b[0;34m.\u001b[0m\u001b[0mlower\u001b[0m\u001b[0;34m(\u001b[0m\u001b[0;34m)\u001b[0m \u001b[0;32mif\u001b[0m \u001b[0misinstance\u001b[0m\u001b[0;34m(\u001b[0m\u001b[0margs\u001b[0m\u001b[0;34m.\u001b[0m\u001b[0mgui\u001b[0m\u001b[0;34m,\u001b[0m \u001b[0mstr\u001b[0m\u001b[0;34m)\u001b[0m \u001b[0;32melse\u001b[0m \u001b[0margs\u001b[0m\u001b[0;34m.\u001b[0m\u001b[0mgui\u001b[0m\u001b[0;34m)\u001b[0m\u001b[0;34m\u001b[0m\u001b[0;34m\u001b[0m\u001b[0m\n\u001b[0m\u001b[1;32m    100\u001b[0m             \u001b[0mself\u001b[0m\u001b[0;34m.\u001b[0m\u001b[0m_show_matplotlib_backend\u001b[0m\u001b[0;34m(\u001b[0m\u001b[0margs\u001b[0m\u001b[0;34m.\u001b[0m\u001b[0mgui\u001b[0m\u001b[0;34m,\u001b[0m \u001b[0mbackend\u001b[0m\u001b[0;34m)\u001b[0m\u001b[0;34m\u001b[0m\u001b[0;34m\u001b[0m\u001b[0m\n\u001b[1;32m    101\u001b[0m \u001b[0;34m\u001b[0m\u001b[0m\n",
      "\u001b[0;32m/usr/lib/python3/dist-packages/IPython/core/interactiveshell.py\u001b[0m in \u001b[0;36menable_matplotlib\u001b[0;34m(self, gui)\u001b[0m\n\u001b[1;32m   3417\u001b[0m                 \u001b[0mgui\u001b[0m\u001b[0;34m,\u001b[0m \u001b[0mbackend\u001b[0m \u001b[0;34m=\u001b[0m \u001b[0mpt\u001b[0m\u001b[0;34m.\u001b[0m\u001b[0mfind_gui_and_backend\u001b[0m\u001b[0;34m(\u001b[0m\u001b[0mself\u001b[0m\u001b[0;34m.\u001b[0m\u001b[0mpylab_gui_select\u001b[0m\u001b[0;34m)\u001b[0m\u001b[0;34m\u001b[0m\u001b[0;34m\u001b[0m\u001b[0m\n\u001b[1;32m   3418\u001b[0m \u001b[0;34m\u001b[0m\u001b[0m\n\u001b[0;32m-> 3419\u001b[0;31m         \u001b[0mpt\u001b[0m\u001b[0;34m.\u001b[0m\u001b[0mactivate_matplotlib\u001b[0m\u001b[0;34m(\u001b[0m\u001b[0mbackend\u001b[0m\u001b[0;34m)\u001b[0m\u001b[0;34m\u001b[0m\u001b[0;34m\u001b[0m\u001b[0m\n\u001b[0m\u001b[1;32m   3420\u001b[0m         \u001b[0mpt\u001b[0m\u001b[0;34m.\u001b[0m\u001b[0mconfigure_inline_support\u001b[0m\u001b[0;34m(\u001b[0m\u001b[0mself\u001b[0m\u001b[0;34m,\u001b[0m \u001b[0mbackend\u001b[0m\u001b[0;34m)\u001b[0m\u001b[0;34m\u001b[0m\u001b[0;34m\u001b[0m\u001b[0m\n\u001b[1;32m   3421\u001b[0m \u001b[0;34m\u001b[0m\u001b[0m\n",
      "\u001b[0;32m/usr/lib/python3/dist-packages/IPython/core/pylabtools.py\u001b[0m in \u001b[0;36mactivate_matplotlib\u001b[0;34m(backend)\u001b[0m\n\u001b[1;32m    320\u001b[0m     \u001b[0;32mfrom\u001b[0m \u001b[0mmatplotlib\u001b[0m \u001b[0;32mimport\u001b[0m \u001b[0mpyplot\u001b[0m \u001b[0;32mas\u001b[0m \u001b[0mplt\u001b[0m\u001b[0;34m\u001b[0m\u001b[0;34m\u001b[0m\u001b[0m\n\u001b[1;32m    321\u001b[0m \u001b[0;34m\u001b[0m\u001b[0m\n\u001b[0;32m--> 322\u001b[0;31m     \u001b[0mplt\u001b[0m\u001b[0;34m.\u001b[0m\u001b[0mswitch_backend\u001b[0m\u001b[0;34m(\u001b[0m\u001b[0mbackend\u001b[0m\u001b[0;34m)\u001b[0m\u001b[0;34m\u001b[0m\u001b[0;34m\u001b[0m\u001b[0m\n\u001b[0m\u001b[1;32m    323\u001b[0m \u001b[0;34m\u001b[0m\u001b[0m\n\u001b[1;32m    324\u001b[0m     \u001b[0mplt\u001b[0m\u001b[0;34m.\u001b[0m\u001b[0mshow\u001b[0m\u001b[0;34m.\u001b[0m\u001b[0m_needmain\u001b[0m \u001b[0;34m=\u001b[0m \u001b[0;32mFalse\u001b[0m\u001b[0;34m\u001b[0m\u001b[0;34m\u001b[0m\u001b[0m\n",
      "\u001b[0;32m~/.local/lib/python3.9/site-packages/matplotlib/pyplot.py\u001b[0m in \u001b[0;36mswitch_backend\u001b[0;34m(newbackend)\u001b[0m\n\u001b[1;32m    263\u001b[0m             \u001b[0;32mreturn\u001b[0m\u001b[0;34m\u001b[0m\u001b[0;34m\u001b[0m\u001b[0m\n\u001b[1;32m    264\u001b[0m \u001b[0;34m\u001b[0m\u001b[0m\n\u001b[0;32m--> 265\u001b[0;31m     backend_mod = importlib.import_module(\n\u001b[0m\u001b[1;32m    266\u001b[0m         cbook._backend_module_name(newbackend))\n\u001b[1;32m    267\u001b[0m \u001b[0;34m\u001b[0m\u001b[0m\n",
      "\u001b[0;32m/usr/lib/python3.9/importlib/__init__.py\u001b[0m in \u001b[0;36mimport_module\u001b[0;34m(name, package)\u001b[0m\n\u001b[1;32m    125\u001b[0m                 \u001b[0;32mbreak\u001b[0m\u001b[0;34m\u001b[0m\u001b[0;34m\u001b[0m\u001b[0m\n\u001b[1;32m    126\u001b[0m             \u001b[0mlevel\u001b[0m \u001b[0;34m+=\u001b[0m \u001b[0;36m1\u001b[0m\u001b[0;34m\u001b[0m\u001b[0;34m\u001b[0m\u001b[0m\n\u001b[0;32m--> 127\u001b[0;31m     \u001b[0;32mreturn\u001b[0m \u001b[0m_bootstrap\u001b[0m\u001b[0;34m.\u001b[0m\u001b[0m_gcd_import\u001b[0m\u001b[0;34m(\u001b[0m\u001b[0mname\u001b[0m\u001b[0;34m[\u001b[0m\u001b[0mlevel\u001b[0m\u001b[0;34m:\u001b[0m\u001b[0;34m]\u001b[0m\u001b[0;34m,\u001b[0m \u001b[0mpackage\u001b[0m\u001b[0;34m,\u001b[0m \u001b[0mlevel\u001b[0m\u001b[0;34m)\u001b[0m\u001b[0;34m\u001b[0m\u001b[0;34m\u001b[0m\u001b[0m\n\u001b[0m\u001b[1;32m    128\u001b[0m \u001b[0;34m\u001b[0m\u001b[0m\n\u001b[1;32m    129\u001b[0m \u001b[0;34m\u001b[0m\u001b[0m\n",
      "\u001b[0;32m/usr/lib/python3.9/importlib/_bootstrap.py\u001b[0m in \u001b[0;36m_gcd_import\u001b[0;34m(name, package, level)\u001b[0m\n",
      "\u001b[0;32m/usr/lib/python3.9/importlib/_bootstrap.py\u001b[0m in \u001b[0;36m_find_and_load\u001b[0;34m(name, import_)\u001b[0m\n",
      "\u001b[0;32m/usr/lib/python3.9/importlib/_bootstrap.py\u001b[0m in \u001b[0;36m_find_and_load_unlocked\u001b[0;34m(name, import_)\u001b[0m\n",
      "\u001b[0;32m/usr/lib/python3.9/importlib/_bootstrap.py\u001b[0m in \u001b[0;36m_call_with_frames_removed\u001b[0;34m(f, *args, **kwds)\u001b[0m\n",
      "\u001b[0;32m/usr/lib/python3.9/importlib/_bootstrap.py\u001b[0m in \u001b[0;36m_gcd_import\u001b[0;34m(name, package, level)\u001b[0m\n",
      "\u001b[0;32m/usr/lib/python3.9/importlib/_bootstrap.py\u001b[0m in \u001b[0;36m_find_and_load\u001b[0;34m(name, import_)\u001b[0m\n",
      "\u001b[0;32m/usr/lib/python3.9/importlib/_bootstrap.py\u001b[0m in \u001b[0;36m_find_and_load_unlocked\u001b[0;34m(name, import_)\u001b[0m\n",
      "\u001b[0;31mModuleNotFoundError\u001b[0m: No module named 'ipympl'"
     ]
    }
   ],
   "source": [
    "%matplotlib widget"
   ]
  },
  {
   "cell_type": "code",
   "execution_count": 24,
   "metadata": {},
   "outputs": [
    {
     "data": {
      "image/png": "[encoded data removed]",
      "text/plain": [
       "<Figure size 432x288 with 1 Axes>"
      ]
     },
     "metadata": {
      "needs_background": "light"
     },
     "output_type": "display_data"
    }
   ],
   "source": [
    "# You have to try this in the notebook directly...\n",
    "plt.plot(x,y+y_noise)\n",
    "plt.grid()"
   ]
  },
  {
   "cell_type": "code",
   "execution_count": 25,
   "metadata": {
    "slideshow": {
     "slide_type": "skip"
    }
   },
   "outputs": [],
   "source": [
    "%matplotlib inline"
   ]
  },
  {
   "cell_type": "markdown",
   "metadata": {
    "slideshow": {
     "slide_type": "slide"
    }
   },
   "source": [
    "### Ajustements"
   ]
  },
  {
   "cell_type": "markdown",
   "metadata": {},
   "source": [
    "#### Ajustement linéaire avec SciPy\n",
    "Mais il n'est pas aisé de récupérer les erreurs sur les paramètres ajustés…"
   ]
  },
  {
   "cell_type": "code",
   "execution_count": 26,
   "metadata": {},
   "outputs": [
    {
     "name": "stdout",
     "output_type": "stream",
     "text": [
      "(-2.2991018395491576, 3.158288861214682)\n"
     ]
    },
    {
     "data": {
      "image/png": "[encoded data removed]",
      "text/plain": [
       "<Figure size 432x288 with 1 Axes>"
      ]
     },
     "metadata": {
      "needs_background": "light"
     },
     "output_type": "display_data"
    }
   ],
   "source": [
    "from scipy import stats\n",
    "x=np.arange(0,1,0.1)\n",
    "dx=0.02\n",
    "dy=0.3\n",
    "y=-2*x+3+np.random.normal(0,dy,x.size)\n",
    "r = stats.linregress(x,y)\n",
    "mn=np.min(x)\n",
    "mx=np.max(x)\n",
    "x1=np.linspace(mn,mx,500)\n",
    "y1=r.slope*x1+r.intercept\n",
    "plt.errorbar(x,y,xerr=dx,yerr=dy,fmt='o',label='data')\n",
    "plt.plot(x1,y1,'-r',label='fit')\n",
    "plt.legend()\n",
    "plt.grid()\n",
    "print((r.slope,r.intercept))"
   ]
  },
  {
   "cell_type": "markdown",
   "metadata": {
    "slideshow": {
     "slide_type": "subslide"
    }
   },
   "source": [
    "#### Ajustement linéaire avec fitutils"
   ]
  },
  {
   "cell_type": "markdown",
   "metadata": {},
   "source": [
    "Attention : `fitutils` n'est pas un outil standard mais il est disponible sur votre server préféré ;) . Si vous cherchez ce module, vous le trouverez sur le server `jupy` dans `/home/libs/` (sauf s'il y a eu des modifications de configuration dernièrement…)\n",
    "\n",
    "Ce moudle est une nouvelle branche (version) de l'outil MatlabⓇ `linfitxy` disponible à  https://github.com/tjbtjbtjb/linfitxy.\n",
    "\n",
    "Principal avantage de cet outil : il gère les erreurs à la fois en `Y` et en `X`, alors que la plupart des outils ne le font pas."
   ]
  },
  {
   "cell_type": "code",
   "execution_count": 27,
   "metadata": {
    "slideshow": {
     "slide_type": "fragment"
    }
   },
   "outputs": [
    {
     "ename": "ModuleNotFoundError",
     "evalue": "No module named 'fitutils'",
     "output_type": "error",
     "traceback": [
      "\u001b[0;31m---------------------------------------------------------------------------\u001b[0m",
      "\u001b[0;31mModuleNotFoundError\u001b[0m                       Traceback (most recent call last)",
      "\u001b[0;32m<ipython-input-27-5d4fe5d071d5>\u001b[0m in \u001b[0;36m<module>\u001b[0;34m\u001b[0m\n\u001b[0;32m----> 1\u001b[0;31m \u001b[0;32mimport\u001b[0m \u001b[0mfitutils\u001b[0m \u001b[0;32mas\u001b[0m \u001b[0mfu\u001b[0m\u001b[0;34m\u001b[0m\u001b[0;34m\u001b[0m\u001b[0m\n\u001b[0m\u001b[1;32m      2\u001b[0m \u001b[0mdx\u001b[0m\u001b[0;34m=\u001b[0m\u001b[0mnp\u001b[0m\u001b[0;34m.\u001b[0m\u001b[0mones\u001b[0m\u001b[0;34m(\u001b[0m\u001b[0mx\u001b[0m\u001b[0;34m.\u001b[0m\u001b[0msize\u001b[0m\u001b[0;34m)\u001b[0m\u001b[0;34m*\u001b[0m\u001b[0mdx\u001b[0m\u001b[0;34m\u001b[0m\u001b[0;34m\u001b[0m\u001b[0m\n\u001b[1;32m      3\u001b[0m \u001b[0mdy\u001b[0m\u001b[0;34m=\u001b[0m\u001b[0mnp\u001b[0m\u001b[0;34m.\u001b[0m\u001b[0mones\u001b[0m\u001b[0;34m(\u001b[0m\u001b[0my\u001b[0m\u001b[0;34m.\u001b[0m\u001b[0msize\u001b[0m\u001b[0;34m)\u001b[0m\u001b[0;34m*\u001b[0m\u001b[0mdy\u001b[0m\u001b[0;34m\u001b[0m\u001b[0;34m\u001b[0m\u001b[0m\n\u001b[1;32m      4\u001b[0m \u001b[0mfu\u001b[0m\u001b[0;34m.\u001b[0m\u001b[0mlinfitxy\u001b[0m\u001b[0;34m(\u001b[0m\u001b[0mx\u001b[0m\u001b[0;34m,\u001b[0m\u001b[0my\u001b[0m\u001b[0;34m,\u001b[0m\u001b[0mdx\u001b[0m\u001b[0;34m,\u001b[0m\u001b[0mdy\u001b[0m\u001b[0;34m,\u001b[0m\u001b[0mplot\u001b[0m\u001b[0;34m=\u001b[0m\u001b[0;32mTrue\u001b[0m\u001b[0;34m)\u001b[0m\u001b[0;34m\u001b[0m\u001b[0;34m\u001b[0m\u001b[0m\n\u001b[1;32m      5\u001b[0m \u001b[0mplt\u001b[0m\u001b[0;34m.\u001b[0m\u001b[0mgrid\u001b[0m\u001b[0;34m(\u001b[0m\u001b[0;34m)\u001b[0m\u001b[0;34m\u001b[0m\u001b[0;34m\u001b[0m\u001b[0m\n",
      "\u001b[0;31mModuleNotFoundError\u001b[0m: No module named 'fitutils'"
     ]
    }
   ],
   "source": [
    "import fitutils as fu\n",
    "dx=np.ones(x.size)*dx\n",
    "dy=np.ones(y.size)*dy\n",
    "fu.linfitxy(x,y,dx,dy,plot=True)\n",
    "plt.grid()"
   ]
  },
  {
   "cell_type": "code",
   "execution_count": 28,
   "metadata": {
    "slideshow": {
     "slide_type": "skip"
    }
   },
   "outputs": [
    {
     "name": "stdout",
     "output_type": "stream",
     "text": [
      "[-2.29910184  3.15828886] [0.31960456 0.17062214]\n"
     ]
    }
   ],
   "source": [
    "# And with curve_fit (without yerr), just for testing…\n",
    "\n",
    "def linear(x,a,b):\n",
    "    return a*x+b\n",
    "\n",
    "from scipy import optimize\n",
    "p,c=optimize.curve_fit(linear,x,y)\n",
    "err=np.zeros(np.size(p))\n",
    "for i in range(np.size(p)):\n",
    "    err[i]=m.sqrt(c[i][i])\n",
    "print(p,err)"
   ]
  },
  {
   "cell_type": "markdown",
   "metadata": {
    "slideshow": {
     "slide_type": "subslide"
    }
   },
   "source": [
    "#### Ajustement non linéaire\n",
    "Il peut être réaliser soit avec  `polyfit` (pour les polynômes) ou avec `curvefit` (pour n'importe quelle fonction). \n",
    "On pourra préférer ce `curvefit` car on peut facilement récupérer les erreurs des paramètres ajustés. Voir ci-dessous."
   ]
  },
  {
   "cell_type": "code",
   "execution_count": 29,
   "metadata": {},
   "outputs": [
    {
     "name": "stdout",
     "output_type": "stream",
     "text": [
      "[-1.54750867  3.7363637  57.26535601]\n",
      "[  1.14423273   3.61819951 557.0414159 ] [ 0.33724159  0.46969    53.76744431]\n"
     ]
    }
   ],
   "source": [
    "def f1(x,a,b,c):\n",
    "    return a*x**2+b*x+c\n",
    "\n",
    "N=15\n",
    "x_exp=np.random.random(N)*10-5   # Get random x between -5 and +5\n",
    "y=f1(x_exp,-2,3,60)         # Compute y\n",
    "dy=np.random.randn(N)*5         # Some noise\n",
    "y_exp=y+dy                       # Let's assume those are experimental data\n",
    "\n",
    "# Fitting with polyfit \n",
    "p=np.polyfit(x_exp,y_exp,2)   # Fit with numpy.polyfit\n",
    "print(p)\n",
    "\n",
    "# Fitting with curvefit, try to fit a normal\n",
    "from scipy import optimize\n",
    "from scipy.stats import norm\n",
    "def f2(x,m,s,n): \n",
    "    return n*norm.pdf(x,m,s)\n",
    "\n",
    "param,cov=optimize.curve_fit(f2,x_exp,y_exp,p0=[0,1,10],sigma=np.ones(N)*5)\n",
    "err=np.zeros(np.size(param))\n",
    "for i in range(np.size(param)):\n",
    "    err[i]=m.sqrt(cov[i][i])\n",
    "print(param,err)"
   ]
  },
  {
   "cell_type": "code",
   "execution_count": 30,
   "metadata": {
    "slideshow": {
     "slide_type": "subslide"
    }
   },
   "outputs": [
    {
     "data": {
      "text/plain": [
       "<matplotlib.legend.Legend at 0x7f8a9f0cafd0>"
      ]
     },
     "execution_count": 30,
     "metadata": {},
     "output_type": "execute_result"
    },
    {
     "data": {
      "image/png": "[encoded data removed]",
      "text/plain": [
       "<Figure size 432x288 with 1 Axes>"
      ]
     },
     "metadata": {
      "needs_background": "light"
     },
     "output_type": "display_data"
    }
   ],
   "source": [
    "plt.errorbar(x_exp,y_exp,yerr=5,fmt='*',label='data')\n",
    "x=np.arange(-5.5,5.5,0.05)\n",
    "plt.plot(x,f1(x,p[0],p[1],p[2]),'r',label='polyfit 2nd deg')\n",
    "plt.plot(x,f2(x,param[0],param[1],param[2]),'g',label='normal curvefit')\n",
    "plt.grid()\n",
    "plt.legend()"
   ]
  },
  {
   "cell_type": "markdown",
   "metadata": {
    "slideshow": {
     "slide_type": "slide"
    }
   },
   "source": [
    "### Quelques éléments de statistique"
   ]
  },
  {
   "cell_type": "code",
   "execution_count": 31,
   "metadata": {
    "slideshow": {
     "slide_type": "fragment"
    }
   },
   "outputs": [
    {
     "name": "stdout",
     "output_type": "stream",
     "text": [
      "0.9631181361472119 -2.980045867111682 -3.0396292942644876\n"
     ]
    },
    {
     "data": {
      "image/png": "[encoded data removed]",
      "text/plain": [
       "<Figure size 432x288 with 1 Axes>"
      ]
     },
     "metadata": {
      "needs_background": "light"
     },
     "output_type": "display_data"
    }
   ],
   "source": [
    "import numpy as np\n",
    "x=np.random.normal(-3,1,250)\n",
    "plt.plot(x)\n",
    "s=np.std(x)\n",
    "m=np.mean(x)\n",
    "m2=np.median(x)\n",
    "print(s,m,m2)"
   ]
  },
  {
   "cell_type": "markdown",
   "metadata": {
    "slideshow": {
     "slide_type": "subslide"
    }
   },
   "source": [
    "### Histogrammes"
   ]
  },
  {
   "cell_type": "code",
   "execution_count": 32,
   "metadata": {},
   "outputs": [
    {
     "data": {
      "image/png": "[encoded data removed]",
      "text/plain": [
       "<Figure size 432x288 with 1 Axes>"
      ]
     },
     "metadata": {
      "needs_background": "light"
     },
     "output_type": "display_data"
    }
   ],
   "source": [
    "histo,edges,z=plt.hist(x,12)"
   ]
  },
  {
   "cell_type": "markdown",
   "metadata": {
    "slideshow": {
     "slide_type": "slide"
    }
   },
   "source": [
    "## D'autres petites choses variés en python…"
   ]
  },
  {
   "cell_type": "markdown",
   "metadata": {
    "slideshow": {
     "slide_type": "fragment"
    },
    "tags": []
   },
   "source": [
    "### Lire un simple texte"
   ]
  },
  {
   "cell_type": "code",
   "execution_count": 33,
   "metadata": {},
   "outputs": [
    {
     "data": {
      "image/png": "[encoded data removed]",
      "text/plain": [
       "<Figure size 432x288 with 1 Axes>"
      ]
     },
     "metadata": {
      "needs_background": "light"
     },
     "output_type": "display_data"
    }
   ],
   "source": [
    "import matplotlib.pyplot as plt\n",
    "with open('file1.txt', 'r') as f:\n",
    "    lines = f.readlines()\n",
    "    x = [float(line.split()[0]) for line in lines]\n",
    "    y = [float(line.split()[1]) for line in lines]\n",
    "plt.plot(x ,y,'.')\n",
    "plt.show()"
   ]
  },
  {
   "cell_type": "markdown",
   "metadata": {
    "slideshow": {
     "slide_type": "subslide"
    },
    "tags": []
   },
   "source": [
    "## Lire un fichier issu d'un tableau (`csv`, `xlsx`, `json`, voire issu d'un tableau web)\n",
    "On utilisera pour cela utilement l'outil `pandas`, mais dont la puissance n'a d'égal que sa potentielle complexité. À essayer ! Deux exemples ci-dessous.\n",
    "\n",
    "https://pandas.pydata.org/"
   ]
  },
  {
   "cell_type": "code",
   "execution_count": 34,
   "metadata": {},
   "outputs": [],
   "source": [
    "import pandas as pd"
   ]
  },
  {
   "cell_type": "code",
   "execution_count": 35,
   "metadata": {
    "slideshow": {
     "slide_type": "fragment"
    },
    "tags": []
   },
   "outputs": [
    {
     "data": {
      "text/html": [
       "<div>\n",
       "<style scoped>\n",
       "    .dataframe tbody tr th:only-of-type {\n",
       "        vertical-align: middle;\n",
       "    }\n",
       "\n",
       "    .dataframe tbody tr th {\n",
       "        vertical-align: top;\n",
       "    }\n",
       "\n",
       "    .dataframe thead th {\n",
       "        text-align: right;\n",
       "    }\n",
       "</style>\n",
       "<table border=\"1\" class=\"dataframe\">\n",
       "  <thead>\n",
       "    <tr style=\"text-align: right;\">\n",
       "      <th></th>\n",
       "      <th>fra</th>\n",
       "      <th>clage_vacsi</th>\n",
       "      <th>jour</th>\n",
       "      <th>n_dose1_h</th>\n",
       "      <th>n_complet_h</th>\n",
       "      <th>n_rappel_h</th>\n",
       "      <th>n_2_rappel_h</th>\n",
       "      <th>n_rappel_biv_h</th>\n",
       "      <th>n_3_rappel_h</th>\n",
       "      <th>n_cum_dose1_h</th>\n",
       "      <th>...</th>\n",
       "      <th>n_cum_rappel_e</th>\n",
       "      <th>n_cum_2_rappel_e</th>\n",
       "      <th>n_cum_rappel_biv_e</th>\n",
       "      <th>n_cum_3_rappel_e</th>\n",
       "      <th>couv_dose1_e</th>\n",
       "      <th>couv_complet_e</th>\n",
       "      <th>couv_rappel_e</th>\n",
       "      <th>couv_2_rappel_e</th>\n",
       "      <th>couv_rappel_biv_e</th>\n",
       "      <th>couv_3_rappel_e</th>\n",
       "    </tr>\n",
       "  </thead>\n",
       "  <tbody>\n",
       "    <tr>\n",
       "      <th>0</th>\n",
       "      <td>FR</td>\n",
       "      <td>4</td>\n",
       "      <td>2020-12-27</td>\n",
       "      <td>1</td>\n",
       "      <td>0</td>\n",
       "      <td>0</td>\n",
       "      <td>0</td>\n",
       "      <td>0</td>\n",
       "      <td>0</td>\n",
       "      <td>1</td>\n",
       "      <td>...</td>\n",
       "      <td>0</td>\n",
       "      <td>0</td>\n",
       "      <td>0</td>\n",
       "      <td>0</td>\n",
       "      <td>0.0</td>\n",
       "      <td>0.0</td>\n",
       "      <td>0.0</td>\n",
       "      <td>0.0</td>\n",
       "      <td>0.0</td>\n",
       "      <td>0.0</td>\n",
       "    </tr>\n",
       "    <tr>\n",
       "      <th>1</th>\n",
       "      <td>FR</td>\n",
       "      <td>4</td>\n",
       "      <td>2020-12-28</td>\n",
       "      <td>1</td>\n",
       "      <td>0</td>\n",
       "      <td>0</td>\n",
       "      <td>0</td>\n",
       "      <td>0</td>\n",
       "      <td>0</td>\n",
       "      <td>2</td>\n",
       "      <td>...</td>\n",
       "      <td>0</td>\n",
       "      <td>0</td>\n",
       "      <td>0</td>\n",
       "      <td>0</td>\n",
       "      <td>0.0</td>\n",
       "      <td>0.0</td>\n",
       "      <td>0.0</td>\n",
       "      <td>0.0</td>\n",
       "      <td>0.0</td>\n",
       "      <td>0.0</td>\n",
       "    </tr>\n",
       "    <tr>\n",
       "      <th>2</th>\n",
       "      <td>FR</td>\n",
       "      <td>4</td>\n",
       "      <td>2020-12-29</td>\n",
       "      <td>1</td>\n",
       "      <td>0</td>\n",
       "      <td>0</td>\n",
       "      <td>0</td>\n",
       "      <td>0</td>\n",
       "      <td>0</td>\n",
       "      <td>3</td>\n",
       "      <td>...</td>\n",
       "      <td>0</td>\n",
       "      <td>0</td>\n",
       "      <td>0</td>\n",
       "      <td>0</td>\n",
       "      <td>0.0</td>\n",
       "      <td>0.0</td>\n",
       "      <td>0.0</td>\n",
       "      <td>0.0</td>\n",
       "      <td>0.0</td>\n",
       "      <td>0.0</td>\n",
       "    </tr>\n",
       "    <tr>\n",
       "      <th>3</th>\n",
       "      <td>FR</td>\n",
       "      <td>4</td>\n",
       "      <td>2020-12-30</td>\n",
       "      <td>0</td>\n",
       "      <td>0</td>\n",
       "      <td>0</td>\n",
       "      <td>0</td>\n",
       "      <td>0</td>\n",
       "      <td>0</td>\n",
       "      <td>3</td>\n",
       "      <td>...</td>\n",
       "      <td>0</td>\n",
       "      <td>0</td>\n",
       "      <td>0</td>\n",
       "      <td>0</td>\n",
       "      <td>0.0</td>\n",
       "      <td>0.0</td>\n",
       "      <td>0.0</td>\n",
       "      <td>0.0</td>\n",
       "      <td>0.0</td>\n",
       "      <td>0.0</td>\n",
       "    </tr>\n",
       "    <tr>\n",
       "      <th>4</th>\n",
       "      <td>FR</td>\n",
       "      <td>4</td>\n",
       "      <td>2020-12-31</td>\n",
       "      <td>1</td>\n",
       "      <td>0</td>\n",
       "      <td>0</td>\n",
       "      <td>0</td>\n",
       "      <td>0</td>\n",
       "      <td>0</td>\n",
       "      <td>4</td>\n",
       "      <td>...</td>\n",
       "      <td>0</td>\n",
       "      <td>0</td>\n",
       "      <td>0</td>\n",
       "      <td>0</td>\n",
       "      <td>0.0</td>\n",
       "      <td>0.0</td>\n",
       "      <td>0.0</td>\n",
       "      <td>0.0</td>\n",
       "      <td>0.0</td>\n",
       "      <td>0.0</td>\n",
       "    </tr>\n",
       "    <tr>\n",
       "      <th>...</th>\n",
       "      <td>...</td>\n",
       "      <td>...</td>\n",
       "      <td>...</td>\n",
       "      <td>...</td>\n",
       "      <td>...</td>\n",
       "      <td>...</td>\n",
       "      <td>...</td>\n",
       "      <td>...</td>\n",
       "      <td>...</td>\n",
       "      <td>...</td>\n",
       "      <td>...</td>\n",
       "      <td>...</td>\n",
       "      <td>...</td>\n",
       "      <td>...</td>\n",
       "      <td>...</td>\n",
       "      <td>...</td>\n",
       "      <td>...</td>\n",
       "      <td>...</td>\n",
       "      <td>...</td>\n",
       "      <td>...</td>\n",
       "      <td>...</td>\n",
       "    </tr>\n",
       "    <tr>\n",
       "      <th>13885</th>\n",
       "      <td>FR</td>\n",
       "      <td>0</td>\n",
       "      <td>2023-07-06</td>\n",
       "      <td>21</td>\n",
       "      <td>13</td>\n",
       "      <td>54</td>\n",
       "      <td>185</td>\n",
       "      <td>1188</td>\n",
       "      <td>404</td>\n",
       "      <td>26423593</td>\n",
       "      <td>...</td>\n",
       "      <td>41041964</td>\n",
       "      <td>10229656</td>\n",
       "      <td>6240642</td>\n",
       "      <td>2344631</td>\n",
       "      <td>80.6</td>\n",
       "      <td>79.2</td>\n",
       "      <td>60.5</td>\n",
       "      <td>15.1</td>\n",
       "      <td>9.2</td>\n",
       "      <td>3.5</td>\n",
       "    </tr>\n",
       "    <tr>\n",
       "      <th>13886</th>\n",
       "      <td>FR</td>\n",
       "      <td>0</td>\n",
       "      <td>2023-07-07</td>\n",
       "      <td>28</td>\n",
       "      <td>28</td>\n",
       "      <td>70</td>\n",
       "      <td>157</td>\n",
       "      <td>1268</td>\n",
       "      <td>415</td>\n",
       "      <td>26423621</td>\n",
       "      <td>...</td>\n",
       "      <td>41042097</td>\n",
       "      <td>10230045</td>\n",
       "      <td>6243483</td>\n",
       "      <td>2345629</td>\n",
       "      <td>80.6</td>\n",
       "      <td>79.2</td>\n",
       "      <td>60.5</td>\n",
       "      <td>15.1</td>\n",
       "      <td>9.2</td>\n",
       "      <td>3.5</td>\n",
       "    </tr>\n",
       "    <tr>\n",
       "      <th>13887</th>\n",
       "      <td>FR</td>\n",
       "      <td>0</td>\n",
       "      <td>2023-07-08</td>\n",
       "      <td>6</td>\n",
       "      <td>8</td>\n",
       "      <td>29</td>\n",
       "      <td>35</td>\n",
       "      <td>253</td>\n",
       "      <td>70</td>\n",
       "      <td>26423627</td>\n",
       "      <td>...</td>\n",
       "      <td>41042147</td>\n",
       "      <td>10230131</td>\n",
       "      <td>6244008</td>\n",
       "      <td>2345798</td>\n",
       "      <td>80.6</td>\n",
       "      <td>79.2</td>\n",
       "      <td>60.5</td>\n",
       "      <td>15.1</td>\n",
       "      <td>9.2</td>\n",
       "      <td>3.5</td>\n",
       "    </tr>\n",
       "    <tr>\n",
       "      <th>13888</th>\n",
       "      <td>FR</td>\n",
       "      <td>0</td>\n",
       "      <td>2023-07-09</td>\n",
       "      <td>1</td>\n",
       "      <td>2</td>\n",
       "      <td>0</td>\n",
       "      <td>2</td>\n",
       "      <td>20</td>\n",
       "      <td>8</td>\n",
       "      <td>26423628</td>\n",
       "      <td>...</td>\n",
       "      <td>41042148</td>\n",
       "      <td>10230138</td>\n",
       "      <td>6244049</td>\n",
       "      <td>2345816</td>\n",
       "      <td>80.6</td>\n",
       "      <td>79.2</td>\n",
       "      <td>60.5</td>\n",
       "      <td>15.1</td>\n",
       "      <td>9.2</td>\n",
       "      <td>3.5</td>\n",
       "    </tr>\n",
       "    <tr>\n",
       "      <th>13889</th>\n",
       "      <td>FR</td>\n",
       "      <td>0</td>\n",
       "      <td>2023-07-10</td>\n",
       "      <td>8</td>\n",
       "      <td>16</td>\n",
       "      <td>41</td>\n",
       "      <td>78</td>\n",
       "      <td>680</td>\n",
       "      <td>213</td>\n",
       "      <td>26423636</td>\n",
       "      <td>...</td>\n",
       "      <td>41042237</td>\n",
       "      <td>10230314</td>\n",
       "      <td>6245480</td>\n",
       "      <td>2346287</td>\n",
       "      <td>80.6</td>\n",
       "      <td>79.2</td>\n",
       "      <td>60.5</td>\n",
       "      <td>15.1</td>\n",
       "      <td>9.2</td>\n",
       "      <td>3.5</td>\n",
       "    </tr>\n",
       "  </tbody>\n",
       "</table>\n",
       "<p>13890 rows × 57 columns</p>\n",
       "</div>"
      ],
      "text/plain": [
       "      fra  clage_vacsi        jour  n_dose1_h  n_complet_h  n_rappel_h  \\\n",
       "0      FR            4  2020-12-27          1            0           0   \n",
       "1      FR            4  2020-12-28          1            0           0   \n",
       "2      FR            4  2020-12-29          1            0           0   \n",
       "3      FR            4  2020-12-30          0            0           0   \n",
       "4      FR            4  2020-12-31          1            0           0   \n",
       "...    ..          ...         ...        ...          ...         ...   \n",
       "13885  FR            0  2023-07-06         21           13          54   \n",
       "13886  FR            0  2023-07-07         28           28          70   \n",
       "13887  FR            0  2023-07-08          6            8          29   \n",
       "13888  FR            0  2023-07-09          1            2           0   \n",
       "13889  FR            0  2023-07-10          8           16          41   \n",
       "\n",
       "       n_2_rappel_h  n_rappel_biv_h  n_3_rappel_h  n_cum_dose1_h  ...  \\\n",
       "0                 0               0             0              1  ...   \n",
       "1                 0               0             0              2  ...   \n",
       "2                 0               0             0              3  ...   \n",
       "3                 0               0             0              3  ...   \n",
       "4                 0               0             0              4  ...   \n",
       "...             ...             ...           ...            ...  ...   \n",
       "13885           185            1188           404       26423593  ...   \n",
       "13886           157            1268           415       26423621  ...   \n",
       "13887            35             253            70       26423627  ...   \n",
       "13888             2              20             8       26423628  ...   \n",
       "13889            78             680           213       26423636  ...   \n",
       "\n",
       "       n_cum_rappel_e  n_cum_2_rappel_e  n_cum_rappel_biv_e  n_cum_3_rappel_e  \\\n",
       "0                   0                 0                   0                 0   \n",
       "1                   0                 0                   0                 0   \n",
       "2                   0                 0                   0                 0   \n",
       "3                   0                 0                   0                 0   \n",
       "4                   0                 0                   0                 0   \n",
       "...               ...               ...                 ...               ...   \n",
       "13885        41041964          10229656             6240642           2344631   \n",
       "13886        41042097          10230045             6243483           2345629   \n",
       "13887        41042147          10230131             6244008           2345798   \n",
       "13888        41042148          10230138             6244049           2345816   \n",
       "13889        41042237          10230314             6245480           2346287   \n",
       "\n",
       "       couv_dose1_e  couv_complet_e  couv_rappel_e  couv_2_rappel_e  \\\n",
       "0               0.0             0.0            0.0              0.0   \n",
       "1               0.0             0.0            0.0              0.0   \n",
       "2               0.0             0.0            0.0              0.0   \n",
       "3               0.0             0.0            0.0              0.0   \n",
       "4               0.0             0.0            0.0              0.0   \n",
       "...             ...             ...            ...              ...   \n",
       "13885          80.6            79.2           60.5             15.1   \n",
       "13886          80.6            79.2           60.5             15.1   \n",
       "13887          80.6            79.2           60.5             15.1   \n",
       "13888          80.6            79.2           60.5             15.1   \n",
       "13889          80.6            79.2           60.5             15.1   \n",
       "\n",
       "       couv_rappel_biv_e  couv_3_rappel_e  \n",
       "0                    0.0              0.0  \n",
       "1                    0.0              0.0  \n",
       "2                    0.0              0.0  \n",
       "3                    0.0              0.0  \n",
       "4                    0.0              0.0  \n",
       "...                  ...              ...  \n",
       "13885                9.2              3.5  \n",
       "13886                9.2              3.5  \n",
       "13887                9.2              3.5  \n",
       "13888                9.2              3.5  \n",
       "13889                9.2              3.5  \n",
       "\n",
       "[13890 rows x 57 columns]"
      ]
     },
     "metadata": {},
     "output_type": "display_data"
    }
   ],
   "source": [
    "# cf. https://www.data.gouv.fr/fr/datasets/donnees-relatives-aux-personnes-vaccinees-contre-la-covid-19-1/\n",
    "vacc=pd.read_csv('https://www.data.gouv.fr/fr/datasets/r/e6fcd558-2ff6-487b-b624-e64a8c05bb07',sep=';')\n",
    "display(vacc)"
   ]
  },
  {
   "cell_type": "code",
   "execution_count": 36,
   "metadata": {
    "slideshow": {
     "slide_type": "subslide"
    },
    "tags": []
   },
   "outputs": [
    {
     "data": {
      "text/plain": [
       "<AxesSubplot: >"
      ]
     },
     "execution_count": 36,
     "metadata": {},
     "output_type": "execute_result"
    },
    {
     "data": {
      "image/png": "[encoded data removed]",
      "text/plain": [
       "<Figure size 432x288 with 1 Axes>"
      ]
     },
     "metadata": {
      "needs_background": "light"
     },
     "output_type": "display_data"
    }
   ],
   "source": [
    "vacc[vacc.clage_vacsi==0][['jour','n_cum_dose1_h']].plot()"
   ]
  },
  {
   "cell_type": "code",
   "execution_count": 37,
   "metadata": {
    "slideshow": {
     "slide_type": "subslide"
    },
    "tags": []
   },
   "outputs": [
    {
     "data": {
      "text/html": [
       "<div>\n",
       "<style scoped>\n",
       "    .dataframe tbody tr th:only-of-type {\n",
       "        vertical-align: middle;\n",
       "    }\n",
       "\n",
       "    .dataframe tbody tr th {\n",
       "        vertical-align: top;\n",
       "    }\n",
       "\n",
       "    .dataframe thead th {\n",
       "        text-align: right;\n",
       "    }\n",
       "</style>\n",
       "<table border=\"1\" class=\"dataframe\">\n",
       "  <thead>\n",
       "    <tr style=\"text-align: right;\">\n",
       "      <th></th>\n",
       "      <th>Année</th>\n",
       "      <th>Population mondiale (milliers)</th>\n",
       "      <th>%±</th>\n",
       "      <th>Accroissement brut (millier)</th>\n",
       "    </tr>\n",
       "  </thead>\n",
       "  <tbody>\n",
       "    <tr>\n",
       "      <th>0</th>\n",
       "      <td>1950</td>\n",
       "      <td>2 536 431</td>\n",
       "      <td>NaN</td>\n",
       "      <td>NaN</td>\n",
       "    </tr>\n",
       "    <tr>\n",
       "      <th>1</th>\n",
       "      <td>1955</td>\n",
       "      <td>2 773 020</td>\n",
       "      <td>+ 9,33 %</td>\n",
       "      <td>236 589</td>\n",
       "    </tr>\n",
       "    <tr>\n",
       "      <th>2</th>\n",
       "      <td>1960</td>\n",
       "      <td>3 034 950</td>\n",
       "      <td>+ 9,45 %</td>\n",
       "      <td>261 930</td>\n",
       "    </tr>\n",
       "    <tr>\n",
       "      <th>3</th>\n",
       "      <td>1965</td>\n",
       "      <td>3 339 584</td>\n",
       "      <td>+ 10,04 %</td>\n",
       "      <td>304 634</td>\n",
       "    </tr>\n",
       "    <tr>\n",
       "      <th>4</th>\n",
       "      <td>1970</td>\n",
       "      <td>3 700 437</td>\n",
       "      <td>+ 10,81 %</td>\n",
       "      <td>360 854</td>\n",
       "    </tr>\n",
       "    <tr>\n",
       "      <th>5</th>\n",
       "      <td>1975</td>\n",
       "      <td>4 079 480</td>\n",
       "      <td>+ 10,24 %</td>\n",
       "      <td>379 043</td>\n",
       "    </tr>\n",
       "    <tr>\n",
       "      <th>6</th>\n",
       "      <td>1980</td>\n",
       "      <td>4 458 003</td>\n",
       "      <td>+ 9,28 %</td>\n",
       "      <td>378 523</td>\n",
       "    </tr>\n",
       "    <tr>\n",
       "      <th>7</th>\n",
       "      <td>1985</td>\n",
       "      <td>4 870 922</td>\n",
       "      <td>+ 9,26 %</td>\n",
       "      <td>412 918</td>\n",
       "    </tr>\n",
       "    <tr>\n",
       "      <th>8</th>\n",
       "      <td>1990</td>\n",
       "      <td>5 327 231</td>\n",
       "      <td>+ 9,37 %</td>\n",
       "      <td>456 309</td>\n",
       "    </tr>\n",
       "    <tr>\n",
       "      <th>9</th>\n",
       "      <td>1995</td>\n",
       "      <td>5 744 213</td>\n",
       "      <td>+ 7,83 %</td>\n",
       "      <td>416 982</td>\n",
       "    </tr>\n",
       "    <tr>\n",
       "      <th>10</th>\n",
       "      <td>2000</td>\n",
       "      <td>6 143 494</td>\n",
       "      <td>+ 6,95 %</td>\n",
       "      <td>399 281</td>\n",
       "    </tr>\n",
       "    <tr>\n",
       "      <th>11</th>\n",
       "      <td>2005</td>\n",
       "      <td>6 541 907</td>\n",
       "      <td>+ 6,49 %</td>\n",
       "      <td>398 413</td>\n",
       "    </tr>\n",
       "    <tr>\n",
       "      <th>12</th>\n",
       "      <td>2010</td>\n",
       "      <td>6 956 824</td>\n",
       "      <td>+ 6,34 %</td>\n",
       "      <td>414 917</td>\n",
       "    </tr>\n",
       "    <tr>\n",
       "      <th>13</th>\n",
       "      <td>2015</td>\n",
       "      <td>7 379 797</td>\n",
       "      <td>+ 6,08 %</td>\n",
       "      <td>422 973</td>\n",
       "    </tr>\n",
       "    <tr>\n",
       "      <th>14</th>\n",
       "      <td>2020</td>\n",
       "      <td>7 794 799</td>\n",
       "      <td>+ 5,62 %</td>\n",
       "      <td>415 002</td>\n",
       "    </tr>\n",
       "    <tr>\n",
       "      <th>15</th>\n",
       "      <td>Source : ONU, World Population Prospects 2019[...</td>\n",
       "      <td>Source : ONU, World Population Prospects 2019[...</td>\n",
       "      <td>Source : ONU, World Population Prospects 2019[...</td>\n",
       "      <td>Source : ONU, World Population Prospects 2019[...</td>\n",
       "    </tr>\n",
       "  </tbody>\n",
       "</table>\n",
       "</div>"
      ],
      "text/plain": [
       "                                                Année  \\\n",
       "0                                                1950   \n",
       "1                                                1955   \n",
       "2                                                1960   \n",
       "3                                                1965   \n",
       "4                                                1970   \n",
       "5                                                1975   \n",
       "6                                                1980   \n",
       "7                                                1985   \n",
       "8                                                1990   \n",
       "9                                                1995   \n",
       "10                                               2000   \n",
       "11                                               2005   \n",
       "12                                               2010   \n",
       "13                                               2015   \n",
       "14                                               2020   \n",
       "15  Source : ONU, World Population Prospects 2019[...   \n",
       "\n",
       "                       Population mondiale (milliers)  \\\n",
       "0                                           2 536 431   \n",
       "1                                           2 773 020   \n",
       "2                                           3 034 950   \n",
       "3                                           3 339 584   \n",
       "4                                           3 700 437   \n",
       "5                                           4 079 480   \n",
       "6                                           4 458 003   \n",
       "7                                           4 870 922   \n",
       "8                                           5 327 231   \n",
       "9                                           5 744 213   \n",
       "10                                          6 143 494   \n",
       "11                                          6 541 907   \n",
       "12                                          6 956 824   \n",
       "13                                          7 379 797   \n",
       "14                                          7 794 799   \n",
       "15  Source : ONU, World Population Prospects 2019[...   \n",
       "\n",
       "                                                   %±  \\\n",
       "0                                                 NaN   \n",
       "1                                            + 9,33 %   \n",
       "2                                            + 9,45 %   \n",
       "3                                           + 10,04 %   \n",
       "4                                           + 10,81 %   \n",
       "5                                           + 10,24 %   \n",
       "6                                            + 9,28 %   \n",
       "7                                            + 9,26 %   \n",
       "8                                            + 9,37 %   \n",
       "9                                            + 7,83 %   \n",
       "10                                           + 6,95 %   \n",
       "11                                           + 6,49 %   \n",
       "12                                           + 6,34 %   \n",
       "13                                           + 6,08 %   \n",
       "14                                           + 5,62 %   \n",
       "15  Source : ONU, World Population Prospects 2019[...   \n",
       "\n",
       "                         Accroissement brut (millier)  \n",
       "0                                                 NaN  \n",
       "1                                             236 589  \n",
       "2                                             261 930  \n",
       "3                                             304 634  \n",
       "4                                             360 854  \n",
       "5                                             379 043  \n",
       "6                                             378 523  \n",
       "7                                             412 918  \n",
       "8                                             456 309  \n",
       "9                                             416 982  \n",
       "10                                            399 281  \n",
       "11                                            398 413  \n",
       "12                                            414 917  \n",
       "13                                            422 973  \n",
       "14                                            415 002  \n",
       "15  Source : ONU, World Population Prospects 2019[...  "
      ]
     },
     "metadata": {},
     "output_type": "display_data"
    }
   ],
   "source": [
    "webpage=\"https://fr.wikipedia.org/wiki/Population_mondiale\"\n",
    "pop=pd.read_html(webpage)[2]\n",
    "display(pop)"
   ]
  },
  {
   "cell_type": "markdown",
   "metadata": {
    "slideshow": {
     "slide_type": "slide"
    },
    "tags": []
   },
   "source": [
    "### Interaction\n",
    "*Attention, cela doit être testé au sein d'un notebook et non en mode présentation*"
   ]
  },
  {
   "cell_type": "code",
   "execution_count": 38,
   "metadata": {
    "slideshow": {
     "slide_type": "-"
    }
   },
   "outputs": [
    {
     "data": {
      "text/plain": [
       "<function __main__.f(nx, ny, wx, wy, phi)>"
      ]
     },
     "execution_count": 38,
     "metadata": {},
     "output_type": "execute_result"
    },
    {
     "data": {
      "image/png": "[encoded data removed]",
      "text/plain": [
       "<Figure size 432x288 with 1 Axes>"
      ]
     },
     "metadata": {
      "needs_background": "light"
     },
     "output_type": "display_data"
    }
   ],
   "source": [
    "from ipywidgets import interact\n",
    "import numpy as np\n",
    "import matplotlib.pyplot as plt\n",
    "import matplotlib.axes as ax\n",
    "import math as m\n",
    "\n",
    "def f(nx,ny,wx,wy,phi):\n",
    "    t=np.linspace(0,m.pi*4,500)\n",
    "    x=nx*np.cos(t*wx)\n",
    "    y=ny*np.cos(t*wy+phi)\n",
    "    plt.plot(x,y)\n",
    "    plt.ylim((-2,2))\n",
    "    plt.xlim((-2,2))\n",
    "    plt.grid(True)\n",
    "    \n",
    "interact(f,nx=(0,2,0.1),ny=(0,2,0.1),wx=(0,6,0.5),wy=(0,6,0.5),phi=(-m.pi,m.pi,0.1))"
   ]
  },
  {
   "cell_type": "markdown",
   "metadata": {
    "slideshow": {
     "slide_type": "slide"
    },
    "tags": []
   },
   "source": [
    "## Communication (difficile à tester aujourd'hui, code donné pour référence)\n",
    "Attention, cela doit être lancé localement, pas dans un notebook"
   ]
  },
  {
   "cell_type": "code",
   "execution_count": 39,
   "metadata": {},
   "outputs": [
    {
     "ename": "SerialException",
     "evalue": "[Errno 2] could not open port /dev/ttyACM0: [Errno 2] No such file or directory: '/dev/ttyACM0'",
     "output_type": "error",
     "traceback": [
      "\u001b[0;31m---------------------------------------------------------------------------\u001b[0m",
      "\u001b[0;31mFileNotFoundError\u001b[0m                         Traceback (most recent call last)",
      "\u001b[0;32m~/.local/lib/python3.9/site-packages/serial/serialposix.py\u001b[0m in \u001b[0;36mopen\u001b[0;34m(self)\u001b[0m\n\u001b[1;32m    321\u001b[0m         \u001b[0;32mtry\u001b[0m\u001b[0;34m:\u001b[0m\u001b[0;34m\u001b[0m\u001b[0;34m\u001b[0m\u001b[0m\n\u001b[0;32m--> 322\u001b[0;31m             \u001b[0mself\u001b[0m\u001b[0;34m.\u001b[0m\u001b[0mfd\u001b[0m \u001b[0;34m=\u001b[0m \u001b[0mos\u001b[0m\u001b[0;34m.\u001b[0m\u001b[0mopen\u001b[0m\u001b[0;34m(\u001b[0m\u001b[0mself\u001b[0m\u001b[0;34m.\u001b[0m\u001b[0mportstr\u001b[0m\u001b[0;34m,\u001b[0m \u001b[0mos\u001b[0m\u001b[0;34m.\u001b[0m\u001b[0mO_RDWR\u001b[0m \u001b[0;34m|\u001b[0m \u001b[0mos\u001b[0m\u001b[0;34m.\u001b[0m\u001b[0mO_NOCTTY\u001b[0m \u001b[0;34m|\u001b[0m \u001b[0mos\u001b[0m\u001b[0;34m.\u001b[0m\u001b[0mO_NONBLOCK\u001b[0m\u001b[0;34m)\u001b[0m\u001b[0;34m\u001b[0m\u001b[0;34m\u001b[0m\u001b[0m\n\u001b[0m\u001b[1;32m    323\u001b[0m         \u001b[0;32mexcept\u001b[0m \u001b[0mOSError\u001b[0m \u001b[0;32mas\u001b[0m \u001b[0mmsg\u001b[0m\u001b[0;34m:\u001b[0m\u001b[0;34m\u001b[0m\u001b[0;34m\u001b[0m\u001b[0m\n",
      "\u001b[0;31mFileNotFoundError\u001b[0m: [Errno 2] No such file or directory: '/dev/ttyACM0'",
      "\nDuring handling of the above exception, another exception occurred:\n",
      "\u001b[0;31mSerialException\u001b[0m                           Traceback (most recent call last)",
      "\u001b[0;32m<ipython-input-39-972def5b5f42>\u001b[0m in \u001b[0;36m<module>\u001b[0;34m\u001b[0m\n\u001b[1;32m      1\u001b[0m \u001b[0;31m# Assume that arduino has the L/H Builtin LED program uploaded\u001b[0m\u001b[0;34m\u001b[0m\u001b[0;34m\u001b[0m\u001b[0;34m\u001b[0m\u001b[0m\n\u001b[1;32m      2\u001b[0m \u001b[0;32mimport\u001b[0m \u001b[0mserial\u001b[0m\u001b[0;34m\u001b[0m\u001b[0;34m\u001b[0m\u001b[0m\n\u001b[0;32m----> 3\u001b[0;31m \u001b[0ms\u001b[0m\u001b[0;34m=\u001b[0m\u001b[0mserial\u001b[0m\u001b[0;34m.\u001b[0m\u001b[0mSerial\u001b[0m\u001b[0;34m(\u001b[0m\u001b[0;34m'/dev/ttyACM0'\u001b[0m\u001b[0;34m,\u001b[0m\u001b[0;34m'9600'\u001b[0m\u001b[0;34m)\u001b[0m \u001b[0;31m# One should change the path of the com port according to the actual machine\u001b[0m\u001b[0;34m\u001b[0m\u001b[0;34m\u001b[0m\u001b[0m\n\u001b[0m\u001b[1;32m      4\u001b[0m \u001b[0ms\u001b[0m\u001b[0;34m.\u001b[0m\u001b[0mwrite\u001b[0m\u001b[0;34m(\u001b[0m\u001b[0;34mb'L'\u001b[0m\u001b[0;34m)\u001b[0m\u001b[0;34m\u001b[0m\u001b[0;34m\u001b[0m\u001b[0m\n\u001b[1;32m      5\u001b[0m \u001b[0ms\u001b[0m\u001b[0;34m.\u001b[0m\u001b[0mwrite\u001b[0m\u001b[0;34m(\u001b[0m\u001b[0;34mb'H'\u001b[0m\u001b[0;34m)\u001b[0m\u001b[0;34m\u001b[0m\u001b[0;34m\u001b[0m\u001b[0m\n",
      "\u001b[0;32m~/.local/lib/python3.9/site-packages/serial/serialutil.py\u001b[0m in \u001b[0;36m__init__\u001b[0;34m(self, port, baudrate, bytesize, parity, stopbits, timeout, xonxoff, rtscts, write_timeout, dsrdtr, inter_byte_timeout, exclusive, **kwargs)\u001b[0m\n\u001b[1;32m    242\u001b[0m \u001b[0;34m\u001b[0m\u001b[0m\n\u001b[1;32m    243\u001b[0m         \u001b[0;32mif\u001b[0m \u001b[0mport\u001b[0m \u001b[0;32mis\u001b[0m \u001b[0;32mnot\u001b[0m \u001b[0;32mNone\u001b[0m\u001b[0;34m:\u001b[0m\u001b[0;34m\u001b[0m\u001b[0;34m\u001b[0m\u001b[0m\n\u001b[0;32m--> 244\u001b[0;31m             \u001b[0mself\u001b[0m\u001b[0;34m.\u001b[0m\u001b[0mopen\u001b[0m\u001b[0;34m(\u001b[0m\u001b[0;34m)\u001b[0m\u001b[0;34m\u001b[0m\u001b[0;34m\u001b[0m\u001b[0m\n\u001b[0m\u001b[1;32m    245\u001b[0m \u001b[0;34m\u001b[0m\u001b[0m\n\u001b[1;32m    246\u001b[0m     \u001b[0;31m#  -  -  -  -  -  -  -  -  -  -  -  -  -  -  -  -  -  -  -  -  -  -  -  -\u001b[0m\u001b[0;34m\u001b[0m\u001b[0;34m\u001b[0m\u001b[0;34m\u001b[0m\u001b[0m\n",
      "\u001b[0;32m~/.local/lib/python3.9/site-packages/serial/serialposix.py\u001b[0m in \u001b[0;36mopen\u001b[0;34m(self)\u001b[0m\n\u001b[1;32m    323\u001b[0m         \u001b[0;32mexcept\u001b[0m \u001b[0mOSError\u001b[0m \u001b[0;32mas\u001b[0m \u001b[0mmsg\u001b[0m\u001b[0;34m:\u001b[0m\u001b[0;34m\u001b[0m\u001b[0;34m\u001b[0m\u001b[0m\n\u001b[1;32m    324\u001b[0m             \u001b[0mself\u001b[0m\u001b[0;34m.\u001b[0m\u001b[0mfd\u001b[0m \u001b[0;34m=\u001b[0m \u001b[0;32mNone\u001b[0m\u001b[0;34m\u001b[0m\u001b[0;34m\u001b[0m\u001b[0m\n\u001b[0;32m--> 325\u001b[0;31m             \u001b[0;32mraise\u001b[0m \u001b[0mSerialException\u001b[0m\u001b[0;34m(\u001b[0m\u001b[0mmsg\u001b[0m\u001b[0;34m.\u001b[0m\u001b[0merrno\u001b[0m\u001b[0;34m,\u001b[0m \u001b[0;34m\"could not open port {}: {}\"\u001b[0m\u001b[0;34m.\u001b[0m\u001b[0mformat\u001b[0m\u001b[0;34m(\u001b[0m\u001b[0mself\u001b[0m\u001b[0;34m.\u001b[0m\u001b[0m_port\u001b[0m\u001b[0;34m,\u001b[0m \u001b[0mmsg\u001b[0m\u001b[0;34m)\u001b[0m\u001b[0;34m)\u001b[0m\u001b[0;34m\u001b[0m\u001b[0;34m\u001b[0m\u001b[0m\n\u001b[0m\u001b[1;32m    326\u001b[0m         \u001b[0;31m#~ fcntl.fcntl(self.fd, fcntl.F_SETFL, 0)  # set blocking\u001b[0m\u001b[0;34m\u001b[0m\u001b[0;34m\u001b[0m\u001b[0;34m\u001b[0m\u001b[0m\n\u001b[1;32m    327\u001b[0m \u001b[0;34m\u001b[0m\u001b[0m\n",
      "\u001b[0;31mSerialException\u001b[0m: [Errno 2] could not open port /dev/ttyACM0: [Errno 2] No such file or directory: '/dev/ttyACM0'"
     ]
    }
   ],
   "source": [
    "# Assume that arduino has the L/H Builtin LED program uploaded\n",
    "import serial\n",
    "s=serial.Serial('/dev/ttyACM0','9600') # One should change the path of the com port according to the actual machine\n",
    "s.write(b'L')\n",
    "s.write(b'H')"
   ]
  },
  {
   "cell_type": "markdown",
   "metadata": {
    "slideshow": {
     "slide_type": "slide"
    }
   },
   "source": [
    "# Et maintenant ?\n",
    "\n",
    "Jouons désormais avec Python ! Il faut pour cela se référer à la documentation, aux tutoriels, aux exemples, lire et modifier ceux-ci. \n",
    "\n",
    "Allons-y ! \n",
    "\n",
    "![](https://s2.qwant.com/thumbr/0x380/d/7/ad85e5a8111588067821cc67c73f299e13c50db58d9409fab1c7bfeaff1e89/1024px-Python-logo-notext.svg.png?u=https%3A%2F%2Fupload.wikimedia.org%2Fwikipedia%2Fcommons%2Fthumb%2Fc%2Fc3%2FPython-logo-notext.svg%2F1024px-Python-logo-notext.svg.png&q=0&b=1&p=0&a=1)"
   ]
  },
  {
   "cell_type": "code",
   "execution_count": null,
   "metadata": {},
   "outputs": [],
   "source": []
  }
 ],
 "metadata": {
  "kernelspec": {
   "display_name": "Python 3",
   "language": "python",
   "name": "python3"
  },
  "language_info": {
   "codemirror_mode": {
    "name": "ipython",
    "version": 3
   },
   "file_extension": ".py",
   "mimetype": "text/x-python",
   "name": "python",
   "nbconvert_exporter": "python",
   "pygments_lexer": "ipython3",
   "version": "3.9.5"
  },
  "toc-autonumbering": false,
  "toc-showcode": false,
  "toc-showmarkdowntxt": false
 },
 "nbformat": 4,
 "nbformat_minor": 4
}
