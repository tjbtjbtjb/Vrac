{
 "cells": [
  {
   "cell_type": "markdown",
   "metadata": {},
   "source": [
    "# AIPC 2022-2023\n",
    "\n",
    "<center>\n",
    "    <img src=\"https://physique.univ-paris-diderot.fr/sites/all/themes/diderot/logo.png\" height=\"300px\" alt=\"Logo Université Paris Diderot\" /> \n",
    "<img src=\"https://u-paris.fr/wp-content/uploads/2019/03/Universite_Paris_logo_horizontal.jpg\" height=300 alt=\"Logo Université de Paris\" />\n",
    "</center>\n",
    "\n",
    "---\n",
    "\n",
    "## Introduction à python : exercices - suggestion de correction\n",
    "![python logo](https://www.python.org/static/img/python-logo.png \"Python\")"
   ]
  },
  {
   "cell_type": "markdown",
   "metadata": {
    "slideshow": {
     "slide_type": "slide"
    },
    "tags": []
   },
   "source": [
    "## Exercice 1 : utiliser un Jupyter notebook et calculs simples"
   ]
  },
  {
   "cell_type": "markdown",
   "metadata": {
    "slideshow": {
     "slide_type": "fragment"
    }
   },
   "source": [
    "* Dans votre notebook python, créer au moins 4 cellules, une avec du texte brut (raw), une avec du Markdown et éventuellement des formules simples en $\\LaTeX$, une avec du code.\n",
    "* Calculer : \n",
    " * $1+2\\times 3$, This is raw text\n",
    " * $(1+2)\\times 3$, \n",
    " * $2^3$,\n",
    " * $5/3$, \n",
    " * et la division entière ainsi que le reste de 5 divisé par 3\n",
    " * Calculer $\\sin(\\pi/2)$, $\\arctan(1)$, $e^1$.\n",
    "* Vérifier que $e^{i\\pi}=-1$."
   ]
  },
  {
   "cell_type": "raw",
   "metadata": {
    "slideshow": {
     "slide_type": "skip"
    },
    "tags": []
   },
   "source": [
    "This is raw text"
   ]
  },
  {
   "cell_type": "markdown",
   "metadata": {
    "slideshow": {
     "slide_type": "notes"
    },
    "tags": []
   },
   "source": [
    "This is *Markdown* text "
   ]
  },
  {
   "cell_type": "markdown",
   "metadata": {
    "slideshow": {
     "slide_type": "skip"
    }
   },
   "source": [
    "This is an example of $\\LaTeX$ formula : $$\\lim_{x\\to\\infty}e^{-x}=0$$"
   ]
  },
  {
   "cell_type": "code",
   "execution_count": 1,
   "metadata": {
    "slideshow": {
     "slide_type": "skip"
    }
   },
   "outputs": [
    {
     "data": {
      "text/plain": [
       "7"
      ]
     },
     "execution_count": 1,
     "metadata": {},
     "output_type": "execute_result"
    }
   ],
   "source": [
    "1+2*3"
   ]
  },
  {
   "cell_type": "code",
   "execution_count": 2,
   "metadata": {
    "slideshow": {
     "slide_type": "skip"
    }
   },
   "outputs": [
    {
     "data": {
      "text/plain": [
       "9"
      ]
     },
     "execution_count": 2,
     "metadata": {},
     "output_type": "execute_result"
    }
   ],
   "source": [
    "(1+2)*3"
   ]
  },
  {
   "cell_type": "code",
   "execution_count": 3,
   "metadata": {
    "slideshow": {
     "slide_type": "skip"
    }
   },
   "outputs": [
    {
     "data": {
      "text/plain": [
       "8"
      ]
     },
     "execution_count": 3,
     "metadata": {},
     "output_type": "execute_result"
    }
   ],
   "source": [
    "2**3"
   ]
  },
  {
   "cell_type": "code",
   "execution_count": 4,
   "metadata": {
    "slideshow": {
     "slide_type": "skip"
    }
   },
   "outputs": [
    {
     "data": {
      "text/plain": [
       "1.6666666666666667"
      ]
     },
     "execution_count": 4,
     "metadata": {},
     "output_type": "execute_result"
    }
   ],
   "source": [
    "5/3"
   ]
  },
  {
   "cell_type": "code",
   "execution_count": 5,
   "metadata": {
    "slideshow": {
     "slide_type": "skip"
    }
   },
   "outputs": [
    {
     "data": {
      "text/plain": [
       "1"
      ]
     },
     "execution_count": 5,
     "metadata": {},
     "output_type": "execute_result"
    }
   ],
   "source": [
    "5//3"
   ]
  },
  {
   "cell_type": "code",
   "execution_count": 6,
   "metadata": {
    "slideshow": {
     "slide_type": "skip"
    }
   },
   "outputs": [
    {
     "data": {
      "text/plain": [
       "2"
      ]
     },
     "execution_count": 6,
     "metadata": {},
     "output_type": "execute_result"
    }
   ],
   "source": [
    "5%3"
   ]
  },
  {
   "cell_type": "code",
   "execution_count": 7,
   "metadata": {
    "slideshow": {
     "slide_type": "skip"
    }
   },
   "outputs": [
    {
     "name": "stdout",
     "output_type": "stream",
     "text": [
      "1.0\n",
      "0.7853981633974483\n",
      "2.718281828459045\n"
     ]
    }
   ],
   "source": [
    "import math as m\n",
    "print(m.sin(m.pi/2))\n",
    "print(m.atan(1))\n",
    "print(m.exp(1))"
   ]
  },
  {
   "cell_type": "code",
   "execution_count": 8,
   "metadata": {
    "slideshow": {
     "slide_type": "skip"
    }
   },
   "outputs": [
    {
     "name": "stdout",
     "output_type": "stream",
     "text": [
      "(-1+1.2246467991473532e-16j)\n"
     ]
    }
   ],
   "source": [
    "import cmath as cm\n",
    "a=complex(0,m.pi)\n",
    "print(cm.exp(a))"
   ]
  },
  {
   "cell_type": "markdown",
   "metadata": {
    "slideshow": {
     "slide_type": "slide"
    },
    "tags": []
   },
   "source": [
    "## Exercice 2 : structures de contrôle"
   ]
  },
  {
   "cell_type": "markdown",
   "metadata": {
    "slideshow": {
     "slide_type": "fragment"
    }
   },
   "source": [
    "* Créer une fonction qui calcule $$\\sum_{i=0}^Ni$$ quand $N$ est donné en argument\n",
    "* Créer une fonction qui produise ceci en sortie :"
   ]
  },
  {
   "cell_type": "markdown",
   "metadata": {},
   "source": [
    "```\n",
    "*\n",
    "**\n",
    "***\n",
    "****\n",
    "*****\n",
    "******\n",
    "```"
   ]
  },
  {
   "cell_type": "markdown",
   "metadata": {},
   "source": [
    "* Créer une fonction qui indique lorsqu'un nombre est pair."
   ]
  },
  {
   "cell_type": "code",
   "execution_count": 9,
   "metadata": {
    "slideshow": {
     "slide_type": "skip"
    }
   },
   "outputs": [
    {
     "name": "stdout",
     "output_type": "stream",
     "text": [
      "55 55\n"
     ]
    }
   ],
   "source": [
    "def mysum1(N):\n",
    "    s=0;\n",
    "    for k in range(N):\n",
    "        s=s+k+1\n",
    "    return s\n",
    "\n",
    "def mysum2(N):\n",
    "    return (int)(N*(N+1)/2)\n",
    "\n",
    "print(mysum1(10),mysum2(10))"
   ]
  },
  {
   "cell_type": "code",
   "execution_count": 10,
   "metadata": {
    "slideshow": {
     "slide_type": "skip"
    }
   },
   "outputs": [
    {
     "name": "stdout",
     "output_type": "stream",
     "text": [
      "*\n",
      "**\n",
      "***\n",
      "****\n",
      "*****\n",
      "******\n"
     ]
    }
   ],
   "source": [
    "s=\"\"\n",
    "for k in range(6):\n",
    "    s+=\"*\"\n",
    "    print(s)"
   ]
  },
  {
   "cell_type": "code",
   "execution_count": 11,
   "metadata": {
    "slideshow": {
     "slide_type": "skip"
    }
   },
   "outputs": [
    {
     "name": "stdout",
     "output_type": "stream",
     "text": [
      "124 is even\n",
      "123 is not even\n"
     ]
    }
   ],
   "source": [
    "def print_parity(k):\n",
    "    if k%2 == 0:\n",
    "        print(str(k)+\" is even\")\n",
    "    else:\n",
    "        print(str(k)+\" is not even\")\n",
    "        \n",
    "print_parity(124)\n",
    "print_parity(123)"
   ]
  },
  {
   "cell_type": "markdown",
   "metadata": {
    "slideshow": {
     "slide_type": "slide"
    }
   },
   "source": [
    "## Exercice 3 : un peu de mécanique…"
   ]
  },
  {
   "cell_type": "markdown",
   "metadata": {
    "slideshow": {
     "slide_type": "fragment"
    }
   },
   "source": [
    "Imaginons une masse de $m=1\\;\\textrm{kg}$ qui chute avec une vitesse initiale verticale $v_0$ de la position initiale $z_0=0$. \n",
    "Cette masse est sujette à une accélération de pesanteur $g$. On ne prend pas en compte de frottement ici.\n",
    "\n",
    "* Calculer la position $z$ de la masse en fonction de $t$ à chaque seconde jusqu'à 10 secondes pour différentes vitesse initiales. Tracer $z(t)$."
   ]
  },
  {
   "cell_type": "markdown",
   "metadata": {
    "slideshow": {
     "slide_type": "fragment"
    }
   },
   "source": [
    "* Modifier ce bout de code afin d'introduire l'outil`interact` widget, $v_0$ étant le paramètre."
   ]
  },
  {
   "cell_type": "code",
   "execution_count": 12,
   "metadata": {
    "slideshow": {
     "slide_type": "skip"
    }
   },
   "outputs": [
    {
     "data": {
      "text/plain": [
       "<matplotlib.legend.Legend at 0x7fa2187a7e20>"
      ]
     },
     "execution_count": 12,
     "metadata": {},
     "output_type": "execute_result"
    },
    {
     "data": {
      "image/png": "[encoded data removed]",
      "text/plain": [
       "<Figure size 432x288 with 1 Axes>"
      ]
     },
     "metadata": {
      "needs_background": "light"
     },
     "output_type": "display_data"
    }
   ],
   "source": [
    "import numpy as np\n",
    "import matplotlib.pyplot as plt\n",
    "m=1 # not used :) !\n",
    "g=-9.81\n",
    "t=np.arange(0,11,1)\n",
    "for v0 in [-40,0,40]:\n",
    "    z=1/2*g*t**2+v0*t\n",
    "    plt.plot(t,z,'.',label=\"v0 = \"+str(v0))\n",
    "    \n",
    "plt.grid()\n",
    "plt.legend()"
   ]
  },
  {
   "cell_type": "code",
   "execution_count": 13,
   "metadata": {
    "slideshow": {
     "slide_type": "skip"
    }
   },
   "outputs": [
    {
     "data": {
      "application/vnd.jupyter.widget-view+json": {
       "model_id": "025154b9d06d42b5ae39ec92737f111f",
       "version_major": 2,
       "version_minor": 0
      },
      "text/plain": [
       "interactive(children=(IntSlider(value=0, description='v0', min=-100, step=10), Output()), _dom_classes=('widge…"
      ]
     },
     "metadata": {},
     "output_type": "display_data"
    },
    {
     "data": {
      "text/plain": [
       "<function __main__.f(v0)>"
      ]
     },
     "execution_count": 13,
     "metadata": {},
     "output_type": "execute_result"
    }
   ],
   "source": [
    "from ipywidgets import interact\n",
    "import numpy as np\n",
    "import matplotlib.pyplot as plt\n",
    "m=1 # not used :) !\n",
    "g=-9.81\n",
    "t=np.arange(0,11,1)\n",
    "\n",
    "def f(v0):\n",
    "    z=1/2*g*t**2+v0*t\n",
    "    plt.plot(t,z,'.',label=\"v0 = \"+str(v0))\n",
    "    plt.grid()\n",
    "    plt.legend()\n",
    "    \n",
    "interact(f,v0=(-100,100,10))"
   ]
  },
  {
   "cell_type": "markdown",
   "metadata": {
    "slideshow": {
     "slide_type": "slide"
    }
   },
   "source": [
    "## Exercice 4 : Statistiques simples"
   ]
  },
  {
   "cell_type": "markdown",
   "metadata": {
    "slideshow": {
     "slide_type": "fragment"
    }
   },
   "source": [
    "Imaginons un lot de 100 résistors. Le constructeur prétend qu'ils ont une résistance $R$ de $R_0=220\\;\\Omega$ avec une *erreurr* de $5\\%$. \n",
    "\n",
    "Parce que l'on ne peut pas vraiment interpréter ce que le constructeur entend par *erreur*, on simule le lot de résistances sous les deux hypothèses suivantes : \n",
    "* soit la pdf de $R$ est plate à $\\pm5\\%$\n",
    "* soit la pdf est normale avec $\\sigma=R_0\\times5\\%$\n",
    "\n",
    "Produire les histogrammes de ces deux distributions. Ajuster la seconde avec une gaussienne. Comparer la déviation standard avec le $\\sigma$ ajusté. Être sûr d'être capable d'identifier tous les paramètres ajustés."
   ]
  },
  {
   "cell_type": "code",
   "execution_count": 14,
   "metadata": {
    "slideshow": {
     "slide_type": "skip"
    }
   },
   "outputs": [],
   "source": [
    "import numpy as np\n",
    "import matplotlib.pyplot as plt\n",
    "\n",
    "N=100\n",
    "R0=220\n",
    "err=5/100\n",
    "\n",
    "r1=2*err*R0*np.random.random(N)+R0*(1-err)\n",
    "r2=R0+np.random.randn(N)*err*R0"
   ]
  },
  {
   "cell_type": "code",
   "execution_count": 15,
   "metadata": {
    "slideshow": {
     "slide_type": "skip"
    }
   },
   "outputs": [
    {
     "data": {
      "text/plain": [
       "(array([11.,  6.,  8., 12.,  7.,  9., 10., 14.,  8., 15.]),\n",
       " array([209.05851803, 211.23025896, 213.40199989, 215.57374082,\n",
       "        217.74548175, 219.91722268, 222.08896361, 224.26070454,\n",
       "        226.43244547, 228.6041864 , 230.77592733]),\n",
       " <BarContainer object of 10 artists>)"
      ]
     },
     "execution_count": 15,
     "metadata": {},
     "output_type": "execute_result"
    },
    {
     "data": {
      "image/png": "[encoded data removed]",
      "text/plain": [
       "<Figure size 432x288 with 1 Axes>"
      ]
     },
     "metadata": {
      "needs_background": "light"
     },
     "output_type": "display_data"
    }
   ],
   "source": [
    "plt.hist(r1)"
   ]
  },
  {
   "cell_type": "code",
   "execution_count": 16,
   "metadata": {
    "slideshow": {
     "slide_type": "skip"
    }
   },
   "outputs": [
    {
     "name": "stdout",
     "output_type": "stream",
     "text": [
      "[596.1168554  220.72312901  11.00935445]\n"
     ]
    },
    {
     "data": {
      "text/plain": [
       "[<matplotlib.lines.Line2D at 0x7fa0a3f61b80>]"
      ]
     },
     "execution_count": 16,
     "metadata": {},
     "output_type": "execute_result"
    },
    {
     "data": {
      "image/png": "[encoded data removed]",
      "text/plain": [
       "<Figure size 432x288 with 1 Axes>"
      ]
     },
     "metadata": {
      "needs_background": "light"
     },
     "output_type": "display_data"
    }
   ],
   "source": [
    "from scipy import optimize\n",
    "from scipy.stats import norm\n",
    "h=plt.hist(r2)\n",
    "num=h[0]\n",
    "centers=(h[1][1:]+h[1][0:-1])/2\n",
    "def myg(x,k,x0,s0):\n",
    "    return k*norm.pdf(x,x0,s0)\n",
    "\n",
    "p1,p2=optimize.curve_fit(myg,centers,num,p0=[100,200,10])\n",
    "print(p1)\n",
    "\n",
    "rmin=min(r2)\n",
    "rmax=max(r2)\n",
    "r=np.linspace(rmin,rmax,100)\n",
    "plt.plot(r,myg(r,p1[0],p1[1],p1[2]))"
   ]
  },
  {
   "cell_type": "code",
   "execution_count": 17,
   "metadata": {
    "slideshow": {
     "slide_type": "skip"
    }
   },
   "outputs": [
    {
     "data": {
      "text/plain": [
       "10.971056772862726"
      ]
     },
     "execution_count": 17,
     "metadata": {},
     "output_type": "execute_result"
    }
   ],
   "source": [
    "np.std(r2)"
   ]
  },
  {
   "cell_type": "code",
   "execution_count": 18,
   "metadata": {
    "slideshow": {
     "slide_type": "skip"
    }
   },
   "outputs": [
    {
     "data": {
      "text/plain": [
       "99.82649025681351"
      ]
     },
     "execution_count": 18,
     "metadata": {},
     "output_type": "execute_result"
    }
   ],
   "source": [
    "p1[0]/(centers[1]-centers[0]) # Should be equal to N. One may prefer to fit with fixed k."
   ]
  },
  {
   "cell_type": "markdown",
   "metadata": {
    "slideshow": {
     "slide_type": "slide"
    }
   },
   "source": [
    "## Exercice 5 : Lire et analyser un fichier"
   ]
  },
  {
   "cell_type": "markdown",
   "metadata": {
    "slideshow": {
     "slide_type": "fragment"
    }
   },
   "source": [
    "* Lire le fichier `file2.txt` où l'on trouve en colonne les vecteurs de `x` et de `y`. Tracer alors `y` en fonction de `x`.\n",
    "* (plus difficile) Lire le fichier `csv` nommé `F0004CH2.CSV`, issu d'un canal d'oscilloscipe Tektronik. On s'intéresse à tracer la tension en fonction du temps, le temps étant stocké dans la dernière colonne."
   ]
  },
  {
   "cell_type": "code",
   "execution_count": 20,
   "metadata": {
    "slideshow": {
     "slide_type": "skip"
    }
   },
   "outputs": [
    {
     "data": {
      "image/png": "[encoded data removed]",
      "text/plain": [
       "<Figure size 432x288 with 1 Axes>"
      ]
     },
     "metadata": {
      "needs_background": "light"
     },
     "output_type": "display_data"
    }
   ],
   "source": [
    "import matplotlib.pyplot as plt\n",
    "with open('file2.txt', 'r') as f:\n",
    "    lines = f.readlines()\n",
    "    x = [float(line.split()[0]) for line in lines]\n",
    "    y = [float(line.split()[1]) for line in lines]\n",
    "plt.plot(x ,y)\n",
    "plt.grid()"
   ]
  },
  {
   "cell_type": "code",
   "execution_count": 21,
   "metadata": {
    "slideshow": {
     "slide_type": "skip"
    }
   },
   "outputs": [
    {
     "data": {
      "text/plain": [
       "[<matplotlib.lines.Line2D at 0x7fa0a3dcb6d0>]"
      ]
     },
     "execution_count": 21,
     "metadata": {},
     "output_type": "execute_result"
    },
    {
     "data": {
      "image/png": "[encoded data removed]",
      "text/plain": [
       "<Figure size 432x288 with 1 Axes>"
      ]
     },
     "metadata": {
      "needs_background": "light"
     },
     "output_type": "display_data"
    }
   ],
   "source": [
    "import matplotlib.pyplot as plt\n",
    "import numpy as np\n",
    "import csv\n",
    "t=np.array([])\n",
    "y=np.array([])\n",
    "with open('F0004CH2.CSV') as csvfile:\n",
    "    r = csv.reader(csvfile,delimiter=',')\n",
    "    for row in r:\n",
    "        t=np.append(t,float(row[3]))\n",
    "        y=np.append(y,float(row[4]))\n",
    "plt.plot(t,y)"
   ]
  },
  {
   "cell_type": "code",
   "execution_count": 29,
   "metadata": {
    "slideshow": {
     "slide_type": "skip"
    }
   },
   "outputs": [
    {
     "data": {
      "image/png": "[encoded data removed]",
      "text/plain": [
       "<Figure size 432x288 with 1 Axes>"
      ]
     },
     "metadata": {
      "needs_background": "light"
     },
     "output_type": "display_data"
    }
   ],
   "source": [
    "# Other solution with pandas, more efficient, more readable\n",
    "import pandas\n",
    "data=pandas.read_csv('F0004CH2.CSV',usecols=[3,4],header=None,names=['time','voltage'])\n",
    "fig=data.plot(\"time\",\"voltage\")\n",
    "fig.grid()"
   ]
  },
  {
   "cell_type": "code",
   "execution_count": null,
   "metadata": {},
   "outputs": [],
   "source": []
  }
 ],
 "metadata": {
  "kernelspec": {
   "display_name": "Python 3",
   "language": "python",
   "name": "python3"
  },
  "language_info": {
   "codemirror_mode": {
    "name": "ipython",
    "version": 3
   },
   "file_extension": ".py",
   "mimetype": "text/x-python",
   "name": "python",
   "nbconvert_exporter": "python",
   "pygments_lexer": "ipython3",
   "version": "3.8.6"
  }
 },
 "nbformat": 4,
 "nbformat_minor": 4
}
