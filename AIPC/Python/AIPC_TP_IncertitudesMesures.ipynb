{
 "cells": [
  {
   "cell_type": "markdown",
   "metadata": {
    "id": "6DtRdj1C8V3n"
   },
   "source": [
    "# AIPC\n",
    "\n",
    "<center>\n",
    "    <img src=\"https://physique.u-paris.fr/sites/default/files/logo_2.png\" height=\"300px\" alt=\"Logo Université Paris Diderot\" />\n",
    "</center>\n",
    "\n",
    "---\n",
    "\n",
    "## Incertitudes et mesures : TP\n",
    "<!-- ![python logo](https://www.python.org/static/img/python-logo.png \"Python\") -->"
   ]
  },
  {
   "cell_type": "markdown",
   "metadata": {
    "id": "ntM5_eWC8o2k"
   },
   "source": [
    "## Matériel sur chaque table :\n",
    "* 1 résistor de $39\\;\\Omega$ à 10 \\%\n",
    "* 2 multimètres portables standard, l'un identifié avec une pastille que l'on nommera Ⓐ, l'autre sans pastille Ⓑ\n",
    "* 1 multimètre d'un autre type\n",
    "* 6 fils à embouts bananes à raison de 3 rouges et 3 noirs\n",
    "* 2 pinces grippe-fil\n",
    "* 1 générateur de tension par poste\n",
    "\n",
    "### Travail préliminaire\n",
    "Identifier le matériel à disposition et trouver la documentation associée sur le moodle : https://moodle.u-paris.fr/course/view.php?id=464&section=0#section-13 . \n"
   ]
  },
  {
   "cell_type": "markdown",
   "metadata": {
    "id": "SKI8Dm529dMa"
   },
   "source": [
    "## INTRODUCTION\n",
    "\n",
    "Lors d'une mesure électrique utilisant un multimètre (en tant que volmètre, ampèremètre ou ohmmètre), on relève une seule valeur $m$, en premier lieu : celle qui s'affiche sur l'écran. Cependant, on sait bien qu'une mesure est toujours entachée d'une incertitude. Alors, comment aller plus loin, comment quantifier l'incertitude de mesure ?\n",
    "\n",
    "Les premiers éléments de réponse sont à chercher - systématiquement - dans la notice de l'appareil. On y lit typiquement que \"la précision est (0,2 % de la valeur lue + 3 fois le dernier digit)\". Le fabricant caractérise ainsi, respectivement, les défauts d'étalonnage de l'appareil et son bruit aléatoire ; il est capable de produire ces informations par l'analyse du grand nombre d'appareils identiques qu'il produit.\n",
    "\n",
    "Ensuite, afin d'énoncer le résultat final de la mesure, il est d'usage de considérer que la *précision* Δ déclarée par le fabricant correspond à une distribution de probabilité plate sur l'intervalle $[m - Δ, m + Δ]$. Et finalement, le résultat final de la mesure est écrit sous la forme $m ± σ$, où l'incertitude standard σ est donnée par $\\sigma=\\Delta/\\sqrt{3}$.\n",
    "\n",
    "Par exemple, on annoncera le résultat d'une mesure de tension sous la forme $U = (13,07 ± 0,10)$ V.\n",
    "\n",
    "Remarques :\n",
    "- Ce sont des règles semblables qui s'appliquent pour les valeurs des résistances de résistors. Par exemple, une résistance de \"100 Ω ± 5%\" d'après son fabricant, doit être comprise comme une valeur $R = (100,0 ± 2,9)$ Ω.\n",
    "- De façon générale, l'incertitude que l'on estime ainsi, à la suite de la prise d'une mesure unique et en faisant des hypothèses raisonnables pour estimer σ, est dénommée *incertitude de type B*."
   ]
  },
  {
   "cell_type": "markdown",
   "metadata": {
    "id": "lrQDBhBJBi66"
   },
   "source": [
    "## 1 - MESURE D'UNE RÉSISTANCE AVEC UN MULTIMÈTRE STANDARD\n",
    "\n",
    "À l'aide d'un multimètre à main (Beha-Amprobe, modèle AM-535-EUR) réglé en ohmmètre, effectuer une mesure de la résistance nominale \"39 Ω ± 10 %\" mise à disposition.\n",
    "\n",
    "Écrire le résultat de la mesure sous la forme  R = (... ± ...) Ω."
   ]
  },
  {
   "cell_type": "code",
   "execution_count": 3,
   "metadata": {
    "colab": {
     "base_uri": "https://localhost:8080/",
     "height": 37
    },
    "id": "SN3OL9Eu9zRM",
    "outputId": "f1cd6ca5-219f-41d1-cfa0-ba84175bd482"
   },
   "outputs": [
    {
     "data": {
      "text/latex": [
       "$123.00±10.25\\;\\Omega$"
      ],
      "text/plain": [
       "<IPython.core.display.Latex object>"
      ]
     },
     "metadata": {},
     "output_type": "display_data"
    }
   ],
   "source": [
    "from IPython.display import Markdown,Latex\n",
    "\n",
    "R=123\n",
    "Delta_R=R/12.\n",
    "display(Latex(\"$%.2f\"%R + '±' + \"%.2f\"%Delta_R + '\\;\\Omega$'))"
   ]
  },
  {
   "cell_type": "markdown",
   "metadata": {
    "id": "BTw5HZX59ovq"
   },
   "source": [
    "$R=9,999±0,089\\;\\Omega$"
   ]
  },
  {
   "cell_type": "markdown",
   "metadata": {
    "id": "Fou_RqqEBtRi"
   },
   "source": [
    "## 2 - MESURE AVEC UN MULTIMÈTRE DE TABLE\n",
    "\n",
    "Réitérer la mesure en employant cette fois un multimètre d'un autre type, à disposition sur votre paillasse.\n",
    "Écrire le résultat de cette 2e mesure. La comparer à la précédente."
   ]
  },
  {
   "cell_type": "markdown",
   "metadata": {
    "id": "ToV1rtn4CeLo"
   },
   "source": [
    "$R=9,999±0,089\\;\\Omega$"
   ]
  },
  {
   "cell_type": "markdown",
   "metadata": {
    "id": "QBjVEafBBxTA"
   },
   "source": [
    "## 3 - MESURE SUR UN RÉSISTOR UNIQUE\n",
    "\n",
    "L'un des résistors de valeur nominale \"39 Ω ± 10 %\" de la salle est marqué, et elle est mesurée par tous les groupes l'un à la suite de l'autre (à l'aide d'un multimètre \"standard\", cf. § 1).\n",
    "\n",
    "Les résultats sont collectés, et leur moyenne arithmétique est mise en comparaison avec le résultat donné par une \"*mesure à quatre fils*\" (réalisée sur un multimètre de table par un enseignant)."
   ]
  },
  {
   "cell_type": "code",
   "execution_count": 4,
   "metadata": {
    "id": "CetYGlUwCtPK"
   },
   "outputs": [],
   "source": [
    "liste_R=[39,40,39.5]\n",
    "liste_deltaR=[0.2,0.03,0.23]"
   ]
  },
  {
   "cell_type": "markdown",
   "metadata": {
    "id": "v84rW1bHB45Z"
   },
   "source": [
    "## 4 - MESURE VOLTAMPÈREMÉTRIQUE\n",
    "\n",
    "Installer en série l'alimentation (fém mise sur 1 volt), le résistor de votre paillasse \"39 Ω ± 10 %\" et un multimètre standard réglé en ampèremètre.\n",
    "\n",
    "### a) Montage courte dérivation\n",
    "Brancher l'autre multimètre standard, réglé en voltmètre, aux bornes du résistor. Effectuer les mesures de l'intensité $I$ du courant et de la tension $U$ dans ces conditions. En déduire une mesure (incertitude comprise) de la résistance à l'aide de la loi $R = U/I$."
   ]
  },
  {
   "cell_type": "code",
   "execution_count": 5,
   "metadata": {
    "id": "m2zj0TXfDK82"
   },
   "outputs": [],
   "source": [
    "R=123"
   ]
  },
  {
   "cell_type": "markdown",
   "metadata": {
    "id": "EIc_Xc4SDIwD"
   },
   "source": [
    "\n",
    "### b) Montage longue dérivation\n",
    "Brancher l'autre multimètre standard, réglé en voltmètre, aux bornes du générateur. Effectuer les mesures de l'intensité $I$ du courant et de la tension $U$ dans ces conditions. En déduire une mesure (incertitude comprise) de la résistance à l'aide de la loi $R = U/I$.\n"
   ]
  },
  {
   "cell_type": "code",
   "execution_count": 6,
   "metadata": {
    "id": "spJjutqXDTuo"
   },
   "outputs": [],
   "source": [
    "R=234"
   ]
  },
  {
   "cell_type": "markdown",
   "metadata": {
    "id": "B29I6_DSDS2d"
   },
   "source": [
    "\n",
    "### c) Comparaison.\n",
    "Comparer les résultats des deux mesures à celles qui ont été faites précédemment. Les interpréter. Quel montage ⓐ ou ⓑ est-il le plus judicieux ici ?"
   ]
  },
  {
   "cell_type": "markdown",
   "metadata": {
    "id": "ttkWNRZAB8fv"
   },
   "source": [
    "## 5 - SUR LA MESURE D'UNE RÉSISTANCE PAR LA MÉTHODE DITE \"À QUATRE FILS\"\n",
    "\n",
    "Un enseignant expose la méthode voltampèremétrique \"à quatre fils\", qui permet d'éviter un décalage systématique dû à la résistance des fils, dans le résultat de la mesure d'une résistance.\n"
   ]
  },
  {
   "cell_type": "markdown",
   "metadata": {
    "id": "DdvHXbuEDo4v"
   },
   "source": [
    "\n",
    "\n",
    "---\n",
    "**PAUSE**\n",
    "---\n",
    "\n",
    "\n"
   ]
  },
  {
   "cell_type": "markdown",
   "metadata": {
    "id": "65QMEDK4B_Ah"
   },
   "source": [
    "---\n",
    "\n",
    "## 6 - MESURE PAR RÉGRESSION LINÉAIRE\n",
    "\n",
    "Utiliser le plus judicieux des deux montages 4-a et 4-b.\n",
    "\n",
    "Pour plusieurs valeurs de la fém du générateur, typiquement entre - 1 V et + 1 V, enregistrer les valeurs de l'intensité $I$ du courant et de la tension $U$.\n",
    "\n",
    "Tracer sous python ces points expérimentaux $U$ en fonction de $I$, barres d'incertitudes comprises.\n",
    "\n",
    "Effectuer une régression linéaire des données pour mesurer la résistance $R$. Commenter cette mesure en regard des précédentes. "
   ]
  },
  {
   "cell_type": "code",
   "execution_count": 7,
   "metadata": {
    "id": "KMb5q7_CD135"
   },
   "outputs": [],
   "source": [
    "U=[1,1.3,1.6]\n",
    "I=[0.3,0.4,0.65]"
   ]
  }
 ],
 "metadata": {
  "colab": {
   "collapsed_sections": [],
   "provenance": []
  },
  "kernelspec": {
   "display_name": "Python 3 (ipykernel)",
   "language": "python",
   "name": "python3"
  },
  "language_info": {
   "codemirror_mode": {
    "name": "ipython",
    "version": 3
   },
   "file_extension": ".py",
   "mimetype": "text/x-python",
   "name": "python",
   "nbconvert_exporter": "python",
   "pygments_lexer": "ipython3",
   "version": "3.12.3"
  }
 },
 "nbformat": 4,
 "nbformat_minor": 4
}
