{
 "cells": [
  {
   "cell_type": "markdown",
   "metadata": {
    "tags": []
   },
   "source": [
    "# Ajustement de données issues de la méthode Volt-Ampère-métrique"
   ]
  },
  {
   "cell_type": "markdown",
   "metadata": {},
   "source": [
    "Les données sont issues de la discussion `https://moodle.u-paris.fr/mod/forum/discuss.php?d=81316` à la suite du TP du mercredi 12 octobre 2022."
   ]
  },
  {
   "cell_type": "code",
   "execution_count": 26,
   "metadata": {},
   "outputs": [],
   "source": [
    "# importations requises\n",
    "import numpy as np\n",
    "import matplotlib.pyplot as plt\n",
    "\n",
    "# données\n",
    "I = np.array([-11.48,-9.08,-6.82,-4.47,-2.24,0,2.21,4.43,6.66,8.89,11.13])   # en mA\n",
    "U = np.array([-430,-349.4,-262.7,-172.3,-86.5,0,85.2,170.7,256.5,342.7,428]) # en mV"
   ]
  },
  {
   "cell_type": "markdown",
   "metadata": {},
   "source": [
    "Calcul des incertitudes"
   ]
  },
  {
   "cell_type": "code",
   "execution_count": 27,
   "metadata": {},
   "outputs": [],
   "source": [
    "u_I = ((1./100)*np.abs(I)+2*0.01)/(np.sqrt(3)) ; # en mA, calibre 40 mA\n",
    "u_U = ((0.8/100)*np.abs(U)+1)/(np.sqrt(3)) ;     # en mV, calibre 4 V"
   ]
  },
  {
   "cell_type": "markdown",
   "metadata": {},
   "source": [
    "Afin d'avoir des incertitudes macroscopiques, nous les multiplions arbitrairement par 25 ici pour mieux illustrer les choses."
   ]
  },
  {
   "cell_type": "code",
   "execution_count": 28,
   "metadata": {},
   "outputs": [],
   "source": [
    "u_U_ori = u_U # pour garder la valeur initiale correct\n",
    "u_I_ori = u_I # idem\n",
    "\n",
    "u_U = 25*u_U\n",
    "u_I = 25*u_I"
   ]
  },
  {
   "cell_type": "markdown",
   "metadata": {},
   "source": [
    "### Représentation avec `errorbar`"
   ]
  },
  {
   "cell_type": "code",
   "execution_count": 29,
   "metadata": {},
   "outputs": [
    {
     "data": {
      "image/png": "[encoded data removed]",
      "text/plain": [
       "<Figure size 432x288 with 1 Axes>"
      ]
     },
     "metadata": {
      "needs_background": "light"
     },
     "output_type": "display_data"
    }
   ],
   "source": [
    "plt.errorbar(I, U, xerr=u_I, yerr=u_U, marker='', linestyle='')\n",
    "plt.xlabel('I (mA)')\n",
    "plt.ylabel('U (mV)')\n",
    "plt.grid()"
   ]
  },
  {
   "cell_type": "markdown",
   "metadata": {},
   "source": [
    "Attention, nous représentons ici les incertitudes `x10` pour plus de visibilité. Dans leur calcul on prendra soin de prendre la valeur absolue de $I$ et $U$ afin de ne pas avoir des incertitudes estimées négatives…"
   ]
  },
  {
   "cell_type": "code",
   "execution_count": 30,
   "metadata": {},
   "outputs": [
    {
     "name": "stdout",
     "output_type": "stream",
     "text": [
      "R = 1.00 ± 2.00 Ω\n",
      "a = -0.30 ± 0.20 m\n"
     ]
    }
   ],
   "source": [
    "# fonction simple d'écriture de résultat\n",
    "# par défaut, l'unité affichée sera des Ohm pour une variable notée R\n",
    "\n",
    "def printResult(R,u_R,name='R',unit='Ω'):\n",
    "    print('%s = %.2f ± %.2f %s'%(name,R,u_R,unit))\n",
    "    \n",
    "# Essai de la fonction\n",
    "printResult(1,2)\n",
    "printResult(-0.3,0.2,'a','m')"
   ]
  },
  {
   "cell_type": "markdown",
   "metadata": {},
   "source": [
    "## Ajustement avec `SciPy`"
   ]
  },
  {
   "cell_type": "code",
   "execution_count": 31,
   "metadata": {},
   "outputs": [
    {
     "name": "stdout",
     "output_type": "stream",
     "text": [
      "R = 38.26 ± 0.14 Ω\n",
      "offset = 1.06 ± 1.00 mV\n"
     ]
    },
    {
     "data": {
      "image/png": "[encoded data removed]",
      "text/plain": [
       "<Figure size 432x288 with 1 Axes>"
      ]
     },
     "metadata": {
      "needs_background": "light"
     },
     "output_type": "display_data"
    }
   ],
   "source": [
    "from scipy import stats\n",
    "\n",
    "# regression\n",
    "r  = stats.linregress(I,U)\n",
    "\n",
    "# creation de la droite de régression\n",
    "mn = np.min(I)\n",
    "mx = np.max(I)\n",
    "x1 = np.array([mn,mx])\n",
    "y1 = r.slope*x1 + r.intercept\n",
    "\n",
    "# création du graphique\n",
    "plt.errorbar(I, U, xerr=u_I, yerr=u_U, fmt='.', label='data')\n",
    "plt.plot(x1, y1, '-r', label='fit')\n",
    "plt.legend()\n",
    "plt.xlabel('I (mA)')\n",
    "plt.ylabel('U (mV)')\n",
    "plt.grid()\n",
    "\n",
    "# impression des résultats d'ajustement\n",
    "printResult(r.slope,r.stderr)\n",
    "printResult(r.intercept,r.intercept_stderr,'offset','mV')"
   ]
  },
  {
   "cell_type": "markdown",
   "metadata": {},
   "source": [
    "L'ajustement est affine ici, on ne peut imposer que l'ordonnée à l'origine passe bien par 0. Le modèle ajusté n'est pas celui du modèle physique (seconde loi d'Ohm), et ce degré de liberté supplémentaire change l'estimation de $R$ malheureusement.\n",
    "\n",
    "Par ailleurs cet ajustement ne prend pas en compte les incertitudes. La valeur de $u_R$ est assurément très sous-estimée."
   ]
  },
  {
   "cell_type": "markdown",
   "metadata": {
    "tags": []
   },
   "source": [
    "## Ajustement avec `polyfit`"
   ]
  },
  {
   "cell_type": "code",
   "execution_count": 32,
   "metadata": {},
   "outputs": [
    {
     "name": "stdout",
     "output_type": "stream",
     "text": [
      "[38.25566661  1.05971484] [[0.01955887 0.00136912]\n",
      " [0.00136912 0.9913168 ]]\n"
     ]
    }
   ],
   "source": [
    "# Fitting with polyfit \n",
    "p,V = np.polyfit(I, U, 1, cov=True)   # Fit with numpy.polyfit\n",
    "print(p, V)"
   ]
  },
  {
   "cell_type": "code",
   "execution_count": 33,
   "metadata": {},
   "outputs": [
    {
     "name": "stdout",
     "output_type": "stream",
     "text": [
      "R = 38.26 ± 0.14 Ω\n"
     ]
    }
   ],
   "source": [
    "printResult(p[0],np.sqrt(V[0][0]))"
   ]
  },
  {
   "cell_type": "markdown",
   "metadata": {},
   "source": [
    "Ajustement d'un polynôme de degré 1 (donc une loi toujours affine). Par ailleurs, l'estimation de l'incertitude est exact sous l'hypothèse d'indépendance de $R$ et de la pente, ce qui n'est pas exact.\n",
    "\n",
    "Ici non plus, pas d'utilisation des incertitudes estimées sur les points de mesure."
   ]
  },
  {
   "cell_type": "markdown",
   "metadata": {},
   "source": [
    "## Ajustement avec `curvfit`\n",
    "Ici nous pourrons imposer la fonction ajustée qui est une fonction linéaire, et non affine."
   ]
  },
  {
   "cell_type": "code",
   "execution_count": 34,
   "metadata": {},
   "outputs": [
    {
     "name": "stdout",
     "output_type": "stream",
     "text": [
      "R = 38.36 ± 0.12 Ω\n"
     ]
    }
   ],
   "source": [
    "from scipy import optimize\n",
    "\n",
    "# création de la fonction linéaire\n",
    "def lin(x,a):\n",
    "    return a*x\n",
    "\n",
    "# ajustement\n",
    "param,cov = optimize.curve_fit(lin, I, U, p0=[40], sigma=u_U)\n",
    "\n",
    "# extraction de l'incertitude\n",
    "err = np.zeros(np.size(param))\n",
    "for i in range(np.size(param)):\n",
    "    err[i] = np.sqrt(cov[i][i])\n",
    "\n",
    "printResult(param[0],err[0])"
   ]
  },
  {
   "cell_type": "markdown",
   "metadata": {},
   "source": [
    "Ici nous avons une estimation prenant en compte les incertitudes $u_U$, mais pas $u_I$, les plus grandes dans notre cas. L'estimation de $u_R$ est assurément trop petite."
   ]
  },
  {
   "cell_type": "markdown",
   "metadata": {},
   "source": [
    "## Estimation de l'incertitude par MC\n",
    "L'outil précédent effectue le même type de calcul. Nous allons ici effectuer l'estimation de l'incertitude par MC sur la base de `curv_fit` car cet outil permet d'imposer une loi linéaire."
   ]
  },
  {
   "cell_type": "code",
   "execution_count": 35,
   "metadata": {},
   "outputs": [],
   "source": [
    "from scipy import optimize\n",
    "\n",
    "def lin(x,a):\n",
    "    return a*x\n",
    "\n",
    "nbPseudoExp = 2048\n",
    "pList = np.zeros(nbPseudoExp)\n",
    "for i in range(nbPseudoExp):\n",
    "    U_tmp = np.random.normal(U, u_U)\n",
    "    I_tmp = np.random.normal(I, u_I)\n",
    "    p,cov = optimize.curve_fit(lin, I_tmp, U_tmp, p0=[40])\n",
    "    pList[i] = p[0]"
   ]
  },
  {
   "cell_type": "code",
   "execution_count": 36,
   "metadata": {},
   "outputs": [
    {
     "name": "stdout",
     "output_type": "stream",
     "text": [
      "R = 37.46 ± 3.62 Ω\n"
     ]
    }
   ],
   "source": [
    "printResult(np.mean(pList),np.std(pList))"
   ]
  },
  {
   "cell_type": "markdown",
   "metadata": {},
   "source": [
    "Il nous prenons en compte non seulement l'incertitude $u_U$ mais aussi $u_I$. Et comme nous imposons un modèle linéaire conforme au modèle physique de référence, cet estimation est la plus correcte."
   ]
  },
  {
   "cell_type": "code",
   "execution_count": 37,
   "metadata": {},
   "outputs": [
    {
     "data": {
      "image/png": "[encoded data removed]",
      "text/plain": [
       "<Figure size 432x288 with 1 Axes>"
      ]
     },
     "metadata": {
      "needs_background": "light"
     },
     "output_type": "display_data"
    }
   ],
   "source": [
    "mn = np.min(I) # abscisse min\n",
    "mx = np.max(I) # abscisse max\n",
    "x1 = np.array([mn,mx]) \n",
    "sMean = np.mean(pList) # mean slope\n",
    "ymean = sMean*x1\n",
    "ylow  = (sMean-np.std(pList))*x1\n",
    "yhigh = (sMean+np.std(pList))*x1\n",
    "\n",
    "plt.errorbar(I, U, xerr=u_I, yerr=u_U, fmt='.', label='data')\n",
    "plt.plot(x1, ymean, 'r', label=\"fit\")\n",
    "plt.fill_between(x1, ylow, y2=yhigh, color=\"orange\", label=\"bornes à 1σ\")\n",
    "plt.legend()\n",
    "plt.xlabel('I (mA)')\n",
    "plt.ylabel('U (mV)')\n",
    "plt.grid()"
   ]
  },
  {
   "cell_type": "markdown",
   "metadata": {},
   "source": [
    "La zone orange pleine représente la zone à ±1σ pour la pente (donc $R$) calculé."
   ]
  },
  {
   "cell_type": "markdown",
   "metadata": {},
   "source": [
    "## Ajustement avec `linfitxy`\n",
    "L'outil `linfitxy` effectue ces estimations par MC automatiquement, en utilisant les incertitudes tant en abscisse qu'en ordonnées. L'outil est utilisé à l'UFR de Physique et y a été développé. Il est installé sur la machine `jupy`. Sur une autre machine, il est nécessaire d'effectuer l'installation, et donc de disposer d'internet. Aussi, attention, il est à craindre que vous n'ayez pas accès à l'outil lors du concours. L'outil reste pratique, il est ici présenté pour référence.\n",
    "\n",
    "Les lignes suivantes effectuent l'installation en cas de besoin."
   ]
  },
  {
   "cell_type": "code",
   "execution_count": 38,
   "metadata": {},
   "outputs": [],
   "source": [
    "import sys\n",
    "import subprocess\n",
    "import importlib\n",
    "fitutils_info = importlib.util.find_spec(\"fitutils\")\n",
    "if fitutils_info == None:\n",
    "  subprocess.check_call(['pip', 'install', 'fitutils'])\n",
    "\n",
    "import fitutils as fu"
   ]
  },
  {
   "cell_type": "code",
   "execution_count": 39,
   "metadata": {},
   "outputs": [
    {
     "name": "stdout",
     "output_type": "stream",
     "text": [
      "R = 38.31 ± 2.91 Ω\n"
     ]
    },
    {
     "data": {
      "image/png": "[encoded data removed]",
      "text/plain": [
       "<Figure size 432x288 with 1 Axes>"
      ]
     },
     "metadata": {
      "needs_background": "light"
     },
     "output_type": "display_data"
    }
   ],
   "source": [
    "out=fu.linfitxy(I, U, u_I, u_U, plot=True)\n",
    "plt.grid()\n",
    "\n",
    "printResult(out[0],out[2])"
   ]
  },
  {
   "cell_type": "markdown",
   "metadata": {},
   "source": [
    "Dans notre cas, l'ajustement est affine et ne correspond malheureusement pas au modèle physique. L'utilisation est cependant très simple et méritait d'être mentionnée."
   ]
  },
  {
   "cell_type": "markdown",
   "metadata": {},
   "source": [
    "## Exploitation des données sans ajustement"
   ]
  },
  {
   "cell_type": "markdown",
   "metadata": {},
   "source": [
    "Pour exploiter les données sans ajustement, nous appliquons le modèle de la seconde loi d'Ohm pour chaque point. Pour cela il faut exclure la donnée où $I=0$."
   ]
  },
  {
   "cell_type": "code",
   "execution_count": 40,
   "metadata": {},
   "outputs": [],
   "source": [
    "UU = U[I!=0]\n",
    "II = I[I!=0]\n",
    "u_UU = u_U[I!=0]\n",
    "u_II = u_I[I!=0]\n",
    "\n",
    "RR   = UU/II\n",
    "u_RR = RR*np.sqrt( (u_UU/UU)**2 + (u_II/II)**2 )"
   ]
  },
  {
   "cell_type": "code",
   "execution_count": 41,
   "metadata": {},
   "outputs": [
    {
     "data": {
      "text/plain": [
       "Text(0, 0.5, 'R (Ω)')"
      ]
     },
     "execution_count": 41,
     "metadata": {},
     "output_type": "execute_result"
    },
    {
     "data": {
      "image/png": "[encoded data removed]",
      "text/plain": [
       "<Figure size 432x288 with 1 Axes>"
      ]
     },
     "metadata": {
      "needs_background": "light"
     },
     "output_type": "display_data"
    }
   ],
   "source": [
    "plt.errorbar(II, RR, yerr=u_RR, fmt='o')\n",
    "plt.grid()\n",
    "plt.xlabel('I (mA)')\n",
    "plt.ylabel('R (Ω)')"
   ]
  },
  {
   "cell_type": "markdown",
   "metadata": {},
   "source": [
    "L'estimation de l'incertitude passe aussi par un MC."
   ]
  },
  {
   "cell_type": "code",
   "execution_count": 42,
   "metadata": {},
   "outputs": [
    {
     "name": "stdout",
     "output_type": "stream",
     "text": [
      "R = 38.36 ± 3.52 Ω\n"
     ]
    }
   ],
   "source": [
    "nbPseudoExp = 2048\n",
    "rList = np.zeros(nbPseudoExp)\n",
    "\n",
    "for i in range(nbPseudoExp):\n",
    "    R_tmp = np.random.normal(RR, u_RR)\n",
    "    rList[i] = np.mean(R_tmp)\n",
    "  \n",
    "printResult(np.mean(rList), np.std(rList))"
   ]
  },
  {
   "cell_type": "markdown",
   "metadata": {},
   "source": [
    "On notera que l'incertitude est très similaire par l'utilisation de cette méthode à la sortie du MC de l'ajustement. Cette méthode, sans ajustement, est de fait bien plus simple à mettre en œuvre."
   ]
  },
  {
   "cell_type": "markdown",
   "metadata": {},
   "source": [
    "## Et si on reprenait les incertitudes réelles ? "
   ]
  },
  {
   "cell_type": "code",
   "execution_count": 43,
   "metadata": {},
   "outputs": [],
   "source": [
    "u_U = u_U_ori\n",
    "u_I = u_I_ori"
   ]
  },
  {
   "cell_type": "markdown",
   "metadata": {},
   "source": [
    "### Ajustement linéaire par MC"
   ]
  },
  {
   "cell_type": "code",
   "execution_count": 44,
   "metadata": {},
   "outputs": [
    {
     "name": "stdout",
     "output_type": "stream",
     "text": [
      "R = 38.26 ± 0.14 Ω\n"
     ]
    },
    {
     "data": {
      "image/png": "[encoded data removed]",
      "text/plain": [
       "<Figure size 432x288 with 1 Axes>"
      ]
     },
     "metadata": {
      "needs_background": "light"
     },
     "output_type": "display_data"
    }
   ],
   "source": [
    "from scipy import optimize\n",
    "\n",
    "def lin(x,a):\n",
    "    return a*x\n",
    "\n",
    "nbPseudoExp = 2048\n",
    "pList = np.zeros(nbPseudoExp)\n",
    "for i in range(nbPseudoExp):\n",
    "    U_tmp = np.random.normal(U, u_U)\n",
    "    I_tmp = np.random.normal(I, u_I)\n",
    "    p,cov = optimize.curve_fit(lin, I_tmp, U_tmp, p0=[40])\n",
    "    pList[i] = p[0]\n",
    "    \n",
    "printResult(np.mean(pList),np.std(pList))\n",
    "    \n",
    "mn = np.min(I) # abscisse min\n",
    "mx = np.max(I) # abscisse max\n",
    "x1 = np.array([mn,mx]) \n",
    "sMean = np.mean(pList) # mean slope\n",
    "ymean = sMean*x1\n",
    "ylow  = (sMean-np.std(pList))*x1\n",
    "yhigh = (sMean+np.std(pList))*x1\n",
    "\n",
    "plt.errorbar(I, U, xerr=u_I, yerr=u_U, fmt='.', label='data')\n",
    "plt.plot(x1, ymean, 'r', label=\"fit\")\n",
    "plt.fill_between(x1, ylow, y2=yhigh, color=\"orange\", label=\"bornes à 1σ\")\n",
    "plt.legend()\n",
    "plt.xlabel('I (mA)')\n",
    "plt.ylabel('U (mV)')\n",
    "plt.grid()"
   ]
  },
  {
   "cell_type": "markdown",
   "metadata": {},
   "source": [
    "Les incertitudes des points de données sont ici minuscules. A priori, à l'œil, pas de souci de compatibilité. Mais pour mieux voir les choses, il est préférable de passer aux résidus, i.e. la différences entre les points de mesure et l'ajustement."
   ]
  },
  {
   "cell_type": "code",
   "execution_count": 45,
   "metadata": {},
   "outputs": [
    {
     "data": {
      "text/plain": [
       "<matplotlib.legend.Legend at 0x7fac9351a2e0>"
      ]
     },
     "execution_count": 45,
     "metadata": {},
     "output_type": "execute_result"
    },
    {
     "data": {
      "image/png": "[encoded data removed]",
      "text/plain": [
       "<Figure size 432x288 with 1 Axes>"
      ]
     },
     "metadata": {
      "needs_background": "light"
     },
     "output_type": "display_data"
    }
   ],
   "source": [
    "Ufit = sMean*I\n",
    "plt.errorbar(I, U-Ufit, xerr=u_I, yerr=u_U, fmt='o', label='résidus')\n",
    "x3  = np.array([mn,mx])\n",
    "y3a = - np.std(pList)*x3\n",
    "y3b = np.std(pList)*x3\n",
    "plt.fill_between(x3,y3a,y2=y3b,color='orange',label='zone acceptable à 1σ')\n",
    "plt.grid()\n",
    "plt.xlabel('I (mA)')\n",
    "plt.ylabel('Udata - Ufit (mV)')\n",
    "plt.legend()"
   ]
  },
  {
   "cell_type": "markdown",
   "metadata": {},
   "source": [
    "Avec cette représentation des résidus, il apparaît que le premier point est loin de la zone acceptable. On pourrait calculer sa compatibilité avec un z_test"
   ]
  },
  {
   "cell_type": "code",
   "execution_count": 46,
   "metadata": {},
   "outputs": [
    {
     "name": "stdout",
     "output_type": "stream",
     "text": [
      "3.041436098389003\n"
     ]
    }
   ],
   "source": [
    "z = abs(U[0]-Ufit[0])/np.sqrt( u_U[0]**2 + y3a[0]**2)\n",
    "print(z)"
   ]
  },
  {
   "cell_type": "markdown",
   "metadata": {},
   "source": [
    "Mais ce z_test est valable pour une donnée unique. Pas pour une donnée parmi $N$. En effet, lorsque $N$ est grand, la probabilité croit d'avoir un des points qui s'éloigne de cette valeur. Il ne faut alors pas faire un simple test à 5%. Des corrections existent. La plus simple, le test de Bonferroni consiste à faire un test à $0,05/N$. En pratique, cela consiste à comparer $z$ calculé précédemment à (on décortiquera le calcul…) : "
   ]
  },
  {
   "cell_type": "code",
   "execution_count": 47,
   "metadata": {},
   "outputs": [
    {
     "data": {
      "text/plain": [
       "2.8070337683438042"
      ]
     },
     "execution_count": 47,
     "metadata": {},
     "output_type": "execute_result"
    }
   ],
   "source": [
    "from scipy.stats import norm\n",
    "norm.isf(0.025/10)"
   ]
  },
  {
   "cell_type": "markdown",
   "metadata": {},
   "source": [
    "Le $z$ trouvé pour ce premier point de mesure est supérieur à ce seuil. Le point n'est donc pas compatible avec l'attendu. Aussi, on peut raisonnablement s'interroger sur la prise de données. Dans ce cas, soit il est possible que la mesure soit entâchée d'une erreur auquel cas, on élimine le point ou on le reprend. Soit ce n'est pas le cas, on garde le point… et on médite soit sur le protocole, soit sur le modèle, soit sur l'opérateur/opératrice, soit… \n",
    "\n",
    "Si on élimine le point, on obtient…"
   ]
  },
  {
   "cell_type": "code",
   "execution_count": 48,
   "metadata": {},
   "outputs": [
    {
     "name": "stdout",
     "output_type": "stream",
     "text": [
      "R = 38.50 ± 0.16 Ω\n"
     ]
    },
    {
     "data": {
      "text/plain": [
       "<matplotlib.legend.Legend at 0x7fac93313130>"
      ]
     },
     "execution_count": 48,
     "metadata": {},
     "output_type": "execute_result"
    },
    {
     "data": {
      "image/png": "[encoded data removed]",
      "text/plain": [
       "<Figure size 432x288 with 1 Axes>"
      ]
     },
     "metadata": {
      "needs_background": "light"
     },
     "output_type": "display_data"
    },
    {
     "data": {
      "image/png": "[encoded data removed]",
      "text/plain": [
       "<Figure size 432x288 with 1 Axes>"
      ]
     },
     "metadata": {
      "needs_background": "light"
     },
     "output_type": "display_data"
    }
   ],
   "source": [
    "nbPseudoExp = 2048\n",
    "pList = np.zeros(nbPseudoExp)\n",
    "for i in range(nbPseudoExp):\n",
    "    U_tmp = np.random.normal(U[1:], u_U[1:])\n",
    "    I_tmp = np.random.normal(I[1:], u_I[1:])\n",
    "    p,cov = optimize.curve_fit(lin, I_tmp, U_tmp, p0=[40])\n",
    "    pList[i] = p[0]\n",
    "    \n",
    "printResult(np.mean(pList),np.std(pList))\n",
    "    \n",
    "mn = np.min(I[1:]) # abscisse min\n",
    "mx = np.max(I[1:]) # abscisse max\n",
    "x1 = np.array([mn,mx]) \n",
    "sMean = np.mean(pList) # mean slope\n",
    "ymean = sMean*x1\n",
    "ylow  = (sMean-np.std(pList))*x1\n",
    "yhigh = (sMean+np.std(pList))*x1\n",
    "\n",
    "plt.errorbar(I[1:], U[1:], xerr=u_I[1:], yerr=u_U[1:], fmt='.', label='data')\n",
    "plt.plot(x1, ymean, 'r', label=\"fit\")\n",
    "plt.fill_between(x1, ylow, y2=yhigh, color=\"orange\", label=\"bornes à 1σ\")\n",
    "plt.legend()\n",
    "plt.xlabel('I (mA)')\n",
    "plt.ylabel('U (mV)')\n",
    "plt.grid()\n",
    "\n",
    "plt.figure()\n",
    "Ufit = sMean*I[1:]\n",
    "plt.errorbar(I[1:], U[1:]-Ufit, xerr=u_I[1:], yerr=u_U[1:],fmt='o',label='résidus')\n",
    "x3  = np.array([mn,mx])\n",
    "y3a = - np.std(pList)*x3\n",
    "y3b = np.std(pList)*x3\n",
    "plt.fill_between(x3,y3a,y2=y3b,color='orange',label='zone acceptable à 1σ')\n",
    "plt.grid()\n",
    "plt.xlabel('I (mA)')\n",
    "plt.ylabel('Udata - Ufit (mV)')\n",
    "plt.legend()"
   ]
  },
  {
   "cell_type": "markdown",
   "metadata": {},
   "source": [
    "Nous passons alors d'une mesure de $R=38,25±0,15\\,Ω$ à $R=38,50±0,15\\,Ω$, la différence étant assez significative au regard de l'incertitude de mesure annoncée."
   ]
  },
  {
   "cell_type": "markdown",
   "metadata": {},
   "source": [
    "### Exploitation sans ajustement"
   ]
  },
  {
   "cell_type": "code",
   "execution_count": 49,
   "metadata": {},
   "outputs": [
    {
     "name": "stdout",
     "output_type": "stream",
     "text": [
      "R = 38.42 ± 0.14 Ω\n"
     ]
    },
    {
     "data": {
      "text/plain": [
       "Text(0, 0.5, 'R (Ω)')"
      ]
     },
     "execution_count": 49,
     "metadata": {},
     "output_type": "execute_result"
    },
    {
     "data": {
      "image/png": "[encoded data removed]",
      "text/plain": [
       "<Figure size 432x288 with 1 Axes>"
      ]
     },
     "metadata": {
      "needs_background": "light"
     },
     "output_type": "display_data"
    }
   ],
   "source": [
    "UU = U[I!=0]\n",
    "II = I[I!=0]\n",
    "u_UU = u_U[I!=0]\n",
    "u_II = u_I[I!=0]\n",
    "\n",
    "RR   = UU/II\n",
    "u_RR = RR*np.sqrt( (u_UU/UU)**2 + (u_II/II)**2 )\n",
    "\n",
    "plt.errorbar(II, RR, yerr=u_RR, fmt='o',label='data')\n",
    "\n",
    "nbPseudoExp = 2048\n",
    "rList = np.zeros(nbPseudoExp)\n",
    "\n",
    "for i in range(nbPseudoExp):\n",
    "    R_tmp = np.random.normal(RR, u_RR)\n",
    "    rList[i] = np.mean(R_tmp)\n",
    "  \n",
    "printResult(np.mean(rList), np.std(rList))\n",
    "\n",
    "x1 = np.array([np.min(II),np.max(II)])\n",
    "ymoy  = np.ones(2)*np.mean(rList)\n",
    "ylow  = ymoy - np.std(rList)/np.sqrt(RR.size)\n",
    "yhigh = ymoy + np.std(rList)/np.sqrt(RR.size)\n",
    "plt.plot(x1,ymoy,'r')\n",
    "plt.fill_between(x1,ylow,y2=yhigh,color='orange',label='zone à 1σ')\n",
    "plt.legend()\n",
    "plt.grid()\n",
    "plt.xlabel('I (mA)')\n",
    "plt.ylabel('R (Ω)')"
   ]
  },
  {
   "cell_type": "markdown",
   "metadata": {},
   "source": [
    "Comme plus haut, on note que le premier point semble pathologique. En l'excluant on obtient : "
   ]
  },
  {
   "cell_type": "code",
   "execution_count": 50,
   "metadata": {},
   "outputs": [
    {
     "name": "stdout",
     "output_type": "stream",
     "text": [
      "R = 38.53 ± 0.15 Ω\n"
     ]
    },
    {
     "data": {
      "text/plain": [
       "Text(0, 0.5, 'R (Ω)')"
      ]
     },
     "execution_count": 50,
     "metadata": {},
     "output_type": "execute_result"
    },
    {
     "data": {
      "image/png": "[encoded data removed]",
      "text/plain": [
       "<Figure size 432x288 with 1 Axes>"
      ]
     },
     "metadata": {
      "needs_background": "light"
     },
     "output_type": "display_data"
    }
   ],
   "source": [
    "UU = U[I!=0][1:]\n",
    "II = I[I!=0][1:]\n",
    "u_UU = u_U[I!=0][1:]\n",
    "u_II = u_I[I!=0][1:]\n",
    "\n",
    "RR   = UU/II\n",
    "u_RR = RR*np.sqrt( (u_UU/UU)**2 + (u_II/II)**2 )\n",
    "\n",
    "plt.errorbar(II, RR, yerr=u_RR, fmt='o',label='data')\n",
    "\n",
    "nbPseudoExp = 2048\n",
    "rList = np.zeros(nbPseudoExp)\n",
    "\n",
    "for i in range(nbPseudoExp):\n",
    "    R_tmp = np.random.normal(RR, u_RR)\n",
    "    rList[i] = np.mean(R_tmp)\n",
    "  \n",
    "printResult(np.mean(rList), np.std(rList))\n",
    "\n",
    "x1 = np.array([np.min(II),np.max(II)])\n",
    "ymoy  = np.ones(2)*np.mean(rList)\n",
    "ylow  = ymoy - np.std(rList)/np.sqrt(RR.size)\n",
    "yhigh = ymoy + np.std(rList)/np.sqrt(RR.size)\n",
    "plt.plot(x1,ymoy,'r')\n",
    "plt.fill_between(x1,ylow,y2=yhigh,color='orange',label='zone à 1σ')\n",
    "plt.legend()\n",
    "plt.grid()\n",
    "plt.xlabel('I (mA)')\n",
    "plt.ylabel('R (Ω)')"
   ]
  },
  {
   "cell_type": "markdown",
   "metadata": {},
   "source": [
    "## Quelques remarques \n",
    " - Pour les ajustements, dans ce cas particulier, il est important d'utiliser une fonction modèle cohérente donc linéaire et non affine \n",
    " - Il n'est pas nécessaire d'effectuer un ajustement. Le calcul de $R$ pour chaque mesure marche tout aussi bien\n",
    " - Attention aux points aberrants. Si l'on ne trace pas les résidus, on ne les voit pas forcément"
   ]
  }
 ],
 "metadata": {
  "kernelspec": {
   "display_name": "Python 3",
   "language": "python",
   "name": "python3"
  },
  "language_info": {
   "codemirror_mode": {
    "name": "ipython",
    "version": 3
   },
   "file_extension": ".py",
   "mimetype": "text/x-python",
   "name": "python",
   "nbconvert_exporter": "python",
   "pygments_lexer": "ipython3",
   "version": "3.8.10"
  }
 },
 "nbformat": 4,
 "nbformat_minor": 5
}
