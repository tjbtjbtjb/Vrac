{
 "cells": [
  {
   "cell_type": "markdown",
   "id": "23c7b067-d43b-408f-a43a-f7829dc84e0c",
   "metadata": {},
   "source": [
    "# Tracé continu en python\n",
    "\n",
    "À partir du programme `TempVErsusTimeBLE33.ino` tournant sur arduino nano, fournissant sur le port série la température issue du capteur intégré, nous réalisons un tracé continu au cours des données lues. \n",
    "\n",
    "Les données récupérées sont stockées dans des listes qui pourront être traitées ultérieurement (ajustement par exemple)."
   ]
  },
  {
   "cell_type": "code",
   "execution_count": 1,
   "id": "fef782ad-8447-4aba-9779-ca9f4bc953d0",
   "metadata": {},
   "outputs": [],
   "source": [
    "import matplotlib.pyplot as plt                     # nécessite d'avoir installé  matplotlib\n",
    "from IPython.display import display, clear_output   # nécessite d'avoir installé  IPython \n",
    "import serial                                       # nécessite d'avoir installé pyserial\n",
    "\n",
    "port = '/dev/ttyACM0' # à changer en fonction de la configuration matérielle\n",
    "baud = 9600 # à adapter en fonction de la configuration série sur l'arduino\n",
    "s=serial.Serial(port,baud)"
   ]
  },
  {
   "cell_type": "code",
   "execution_count": 2,
   "id": "8e065907-0529-4fb4-a0a6-a761050a50ab",
   "metadata": {},
   "outputs": [
    {
     "data": {
      "image/png": "[encoded data removed]",
      "text/plain": [
       "<Figure size 432x288 with 1 Axes>"
      ]
     },
     "metadata": {
      "needs_background": "light"
     },
     "output_type": "display_data"
    }
   ],
   "source": [
    "# initialisations\n",
    "Nmax=30 # Nombre maximal de data lues\n",
    "i=0\n",
    "tps=[]\n",
    "temp=[]\n",
    "\n",
    "# initialisation graphique\n",
    "%matplotlib inline\n",
    "fig = plt.figure()\n",
    "ax = fig.add_subplot(111)\n",
    "\n",
    "# on vide le tampon d'entrée\n",
    "s.reset_input_buffer()\n",
    "\n",
    "while i<Nmax:  # boucle de lecture \n",
    "    # lecture \n",
    "    try: # une exception peut arriver si lecture en début de séquence ou souci de transmission. On ne fait pas de test avancé ici pour en savoir plus\n",
    "        data=s.readline().decode().split()  # lecture du port série, décodage\n",
    "        tps.append(float(data[0])) # remplissage de la liste tps (pour le temps)\n",
    "        temp.append(float(data[1])) # remplissage de la liste temp (pour la temperature)\n",
    "    except:\n",
    "        pass\n",
    "    \n",
    "    # tracé\n",
    "    ax.clear()\n",
    "    ax.plot(tps,temp,'*')\n",
    "    ax.grid()\n",
    "    ax.set_xlabel('time (s)')\n",
    "    ax.set_ylabel('temperature (°C)')\n",
    "    display(fig)\n",
    "    clear_output(wait=True)\n",
    "    \n",
    "    i=i+1"
   ]
  },
  {
   "cell_type": "code",
   "execution_count": 3,
   "id": "4496d88e-9d55-4a44-a0e0-456da4da7639",
   "metadata": {},
   "outputs": [],
   "source": [
    "s.close() # afin de libérer les IO sur le port de commnication de l'arduino"
   ]
  },
  {
   "cell_type": "code",
   "execution_count": null,
   "id": "2a875349-0b85-4b1a-9267-9fe890171108",
   "metadata": {},
   "outputs": [],
   "source": []
  }
 ],
 "metadata": {
  "kernelspec": {
   "display_name": "Python 3",
   "language": "python",
   "name": "python3"
  },
  "language_info": {
   "codemirror_mode": {
    "name": "ipython",
    "version": 3
   },
   "file_extension": ".py",
   "mimetype": "text/x-python",
   "name": "python",
   "nbconvert_exporter": "python",
   "pygments_lexer": "ipython3",
   "version": "3.9.5"
  }
 },
 "nbformat": 4,
 "nbformat_minor": 5
}
